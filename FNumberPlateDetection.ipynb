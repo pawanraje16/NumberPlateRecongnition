{
  "cells": [
    {
      "cell_type": "code",
      "execution_count": 1,
      "metadata": {
        "id": "n_texsvNFbky",
        "colab": {
          "base_uri": "https://localhost:8080/"
        },
        "outputId": "0d91a192-b12c-47b8-ae86-f2c1af42d7d3"
      },
      "outputs": [
        {
          "output_type": "stream",
          "name": "stdout",
          "text": [
            "cp: cannot stat 'kaggle.json': No such file or directory\n"
          ]
        }
      ],
      "source": [
        "!mkdir -p ~/.kaggle\n",
        "!cp kaggle.json ~/.kaggle/"
      ]
    },
    {
      "cell_type": "code",
      "execution_count": 2,
      "metadata": {
        "colab": {
          "base_uri": "https://localhost:8080/"
        },
        "id": "R__h4HEWF1aQ",
        "outputId": "1fa9d879-75ee-4dd1-c847-68fdd6a8f6dc"
      },
      "outputs": [
        {
          "output_type": "stream",
          "name": "stdout",
          "text": [
            "Dataset URL: https://www.kaggle.com/datasets/fareselmenshawii/license-plate-dataset\n",
            "License(s): CC0-1.0\n",
            "Downloading license-plate-dataset.zip to /content\n",
            " 99% 1.53G/1.54G [00:23<00:00, 99.4MB/s]\n",
            "100% 1.54G/1.54G [00:23<00:00, 70.2MB/s]\n"
          ]
        }
      ],
      "source": [
        "!kaggle datasets download -d fareselmenshawii/license-plate-dataset"
      ]
    },
    {
      "cell_type": "code",
      "execution_count": 4,
      "metadata": {
        "id": "5jSl0TjdF4Vb"
      },
      "outputs": [],
      "source": [
        "import zipfile\n",
        "zip_ref = zipfile.ZipFile('/content/license-plate-dataset.zip', 'r')\n",
        "zip_ref.extractall('/content')\n",
        "zip_ref.close()"
      ]
    },
    {
      "cell_type": "code",
      "execution_count": 5,
      "metadata": {
        "colab": {
          "base_uri": "https://localhost:8080/"
        },
        "id": "MS_djaC0F9o1",
        "outputId": "82f99eff-89cc-4da1-9c87-c91981042387"
      },
      "outputs": [
        {
          "output_type": "stream",
          "name": "stdout",
          "text": [
            "Requirement already satisfied: torch in /usr/local/lib/python3.10/dist-packages (2.5.0+cu121)\n",
            "Requirement already satisfied: torchvision in /usr/local/lib/python3.10/dist-packages (0.20.0+cu121)\n",
            "Requirement already satisfied: torchaudio in /usr/local/lib/python3.10/dist-packages (2.5.0+cu121)\n",
            "Requirement already satisfied: filelock in /usr/local/lib/python3.10/dist-packages (from torch) (3.16.1)\n",
            "Requirement already satisfied: typing-extensions>=4.8.0 in /usr/local/lib/python3.10/dist-packages (from torch) (4.12.2)\n",
            "Requirement already satisfied: networkx in /usr/local/lib/python3.10/dist-packages (from torch) (3.4.2)\n",
            "Requirement already satisfied: jinja2 in /usr/local/lib/python3.10/dist-packages (from torch) (3.1.4)\n",
            "Requirement already satisfied: fsspec in /usr/local/lib/python3.10/dist-packages (from torch) (2024.10.0)\n",
            "Requirement already satisfied: sympy==1.13.1 in /usr/local/lib/python3.10/dist-packages (from torch) (1.13.1)\n",
            "Requirement already satisfied: mpmath<1.4,>=1.1.0 in /usr/local/lib/python3.10/dist-packages (from sympy==1.13.1->torch) (1.3.0)\n",
            "Requirement already satisfied: numpy in /usr/local/lib/python3.10/dist-packages (from torchvision) (1.26.4)\n",
            "Requirement already satisfied: pillow!=8.3.*,>=5.3.0 in /usr/local/lib/python3.10/dist-packages (from torchvision) (10.4.0)\n",
            "Requirement already satisfied: MarkupSafe>=2.0 in /usr/local/lib/python3.10/dist-packages (from jinja2->torch) (3.0.2)\n",
            "Requirement already satisfied: opencv-python in /usr/local/lib/python3.10/dist-packages (4.10.0.84)\n",
            "Requirement already satisfied: numpy>=1.21.2 in /usr/local/lib/python3.10/dist-packages (from opencv-python) (1.26.4)\n",
            "Requirement already satisfied: matplotlib in /usr/local/lib/python3.10/dist-packages (3.8.0)\n",
            "Requirement already satisfied: contourpy>=1.0.1 in /usr/local/lib/python3.10/dist-packages (from matplotlib) (1.3.0)\n",
            "Requirement already satisfied: cycler>=0.10 in /usr/local/lib/python3.10/dist-packages (from matplotlib) (0.12.1)\n",
            "Requirement already satisfied: fonttools>=4.22.0 in /usr/local/lib/python3.10/dist-packages (from matplotlib) (4.54.1)\n",
            "Requirement already satisfied: kiwisolver>=1.0.1 in /usr/local/lib/python3.10/dist-packages (from matplotlib) (1.4.7)\n",
            "Requirement already satisfied: numpy<2,>=1.21 in /usr/local/lib/python3.10/dist-packages (from matplotlib) (1.26.4)\n",
            "Requirement already satisfied: packaging>=20.0 in /usr/local/lib/python3.10/dist-packages (from matplotlib) (24.1)\n",
            "Requirement already satisfied: pillow>=6.2.0 in /usr/local/lib/python3.10/dist-packages (from matplotlib) (10.4.0)\n",
            "Requirement already satisfied: pyparsing>=2.3.1 in /usr/local/lib/python3.10/dist-packages (from matplotlib) (3.2.0)\n",
            "Requirement already satisfied: python-dateutil>=2.7 in /usr/local/lib/python3.10/dist-packages (from matplotlib) (2.8.2)\n",
            "Requirement already satisfied: six>=1.5 in /usr/local/lib/python3.10/dist-packages (from python-dateutil>=2.7->matplotlib) (1.16.0)\n",
            "Requirement already satisfied: pyyaml in /usr/local/lib/python3.10/dist-packages (6.0.2)\n",
            "Requirement already satisfied: tqdm in /usr/local/lib/python3.10/dist-packages (4.66.6)\n",
            "Collecting ultralytics\n",
            "  Downloading ultralytics-8.3.28-py3-none-any.whl.metadata (35 kB)\n",
            "Requirement already satisfied: numpy>=1.23.0 in /usr/local/lib/python3.10/dist-packages (from ultralytics) (1.26.4)\n",
            "Requirement already satisfied: matplotlib>=3.3.0 in /usr/local/lib/python3.10/dist-packages (from ultralytics) (3.8.0)\n",
            "Requirement already satisfied: opencv-python>=4.6.0 in /usr/local/lib/python3.10/dist-packages (from ultralytics) (4.10.0.84)\n",
            "Requirement already satisfied: pillow>=7.1.2 in /usr/local/lib/python3.10/dist-packages (from ultralytics) (10.4.0)\n",
            "Requirement already satisfied: pyyaml>=5.3.1 in /usr/local/lib/python3.10/dist-packages (from ultralytics) (6.0.2)\n",
            "Requirement already satisfied: requests>=2.23.0 in /usr/local/lib/python3.10/dist-packages (from ultralytics) (2.32.3)\n",
            "Requirement already satisfied: scipy>=1.4.1 in /usr/local/lib/python3.10/dist-packages (from ultralytics) (1.13.1)\n",
            "Requirement already satisfied: torch>=1.8.0 in /usr/local/lib/python3.10/dist-packages (from ultralytics) (2.5.0+cu121)\n",
            "Requirement already satisfied: torchvision>=0.9.0 in /usr/local/lib/python3.10/dist-packages (from ultralytics) (0.20.0+cu121)\n",
            "Requirement already satisfied: tqdm>=4.64.0 in /usr/local/lib/python3.10/dist-packages (from ultralytics) (4.66.6)\n",
            "Requirement already satisfied: psutil in /usr/local/lib/python3.10/dist-packages (from ultralytics) (5.9.5)\n",
            "Requirement already satisfied: py-cpuinfo in /usr/local/lib/python3.10/dist-packages (from ultralytics) (9.0.0)\n",
            "Requirement already satisfied: pandas>=1.1.4 in /usr/local/lib/python3.10/dist-packages (from ultralytics) (2.2.2)\n",
            "Requirement already satisfied: seaborn>=0.11.0 in /usr/local/lib/python3.10/dist-packages (from ultralytics) (0.13.2)\n",
            "Collecting ultralytics-thop>=2.0.0 (from ultralytics)\n",
            "  Downloading ultralytics_thop-2.0.10-py3-none-any.whl.metadata (9.4 kB)\n",
            "Requirement already satisfied: contourpy>=1.0.1 in /usr/local/lib/python3.10/dist-packages (from matplotlib>=3.3.0->ultralytics) (1.3.0)\n",
            "Requirement already satisfied: cycler>=0.10 in /usr/local/lib/python3.10/dist-packages (from matplotlib>=3.3.0->ultralytics) (0.12.1)\n",
            "Requirement already satisfied: fonttools>=4.22.0 in /usr/local/lib/python3.10/dist-packages (from matplotlib>=3.3.0->ultralytics) (4.54.1)\n",
            "Requirement already satisfied: kiwisolver>=1.0.1 in /usr/local/lib/python3.10/dist-packages (from matplotlib>=3.3.0->ultralytics) (1.4.7)\n",
            "Requirement already satisfied: packaging>=20.0 in /usr/local/lib/python3.10/dist-packages (from matplotlib>=3.3.0->ultralytics) (24.1)\n",
            "Requirement already satisfied: pyparsing>=2.3.1 in /usr/local/lib/python3.10/dist-packages (from matplotlib>=3.3.0->ultralytics) (3.2.0)\n",
            "Requirement already satisfied: python-dateutil>=2.7 in /usr/local/lib/python3.10/dist-packages (from matplotlib>=3.3.0->ultralytics) (2.8.2)\n",
            "Requirement already satisfied: pytz>=2020.1 in /usr/local/lib/python3.10/dist-packages (from pandas>=1.1.4->ultralytics) (2024.2)\n",
            "Requirement already satisfied: tzdata>=2022.7 in /usr/local/lib/python3.10/dist-packages (from pandas>=1.1.4->ultralytics) (2024.2)\n",
            "Requirement already satisfied: charset-normalizer<4,>=2 in /usr/local/lib/python3.10/dist-packages (from requests>=2.23.0->ultralytics) (3.4.0)\n",
            "Requirement already satisfied: idna<4,>=2.5 in /usr/local/lib/python3.10/dist-packages (from requests>=2.23.0->ultralytics) (3.10)\n",
            "Requirement already satisfied: urllib3<3,>=1.21.1 in /usr/local/lib/python3.10/dist-packages (from requests>=2.23.0->ultralytics) (2.2.3)\n",
            "Requirement already satisfied: certifi>=2017.4.17 in /usr/local/lib/python3.10/dist-packages (from requests>=2.23.0->ultralytics) (2024.8.30)\n",
            "Requirement already satisfied: filelock in /usr/local/lib/python3.10/dist-packages (from torch>=1.8.0->ultralytics) (3.16.1)\n",
            "Requirement already satisfied: typing-extensions>=4.8.0 in /usr/local/lib/python3.10/dist-packages (from torch>=1.8.0->ultralytics) (4.12.2)\n",
            "Requirement already satisfied: networkx in /usr/local/lib/python3.10/dist-packages (from torch>=1.8.0->ultralytics) (3.4.2)\n",
            "Requirement already satisfied: jinja2 in /usr/local/lib/python3.10/dist-packages (from torch>=1.8.0->ultralytics) (3.1.4)\n",
            "Requirement already satisfied: fsspec in /usr/local/lib/python3.10/dist-packages (from torch>=1.8.0->ultralytics) (2024.10.0)\n",
            "Requirement already satisfied: sympy==1.13.1 in /usr/local/lib/python3.10/dist-packages (from torch>=1.8.0->ultralytics) (1.13.1)\n",
            "Requirement already satisfied: mpmath<1.4,>=1.1.0 in /usr/local/lib/python3.10/dist-packages (from sympy==1.13.1->torch>=1.8.0->ultralytics) (1.3.0)\n",
            "Requirement already satisfied: six>=1.5 in /usr/local/lib/python3.10/dist-packages (from python-dateutil>=2.7->matplotlib>=3.3.0->ultralytics) (1.16.0)\n",
            "Requirement already satisfied: MarkupSafe>=2.0 in /usr/local/lib/python3.10/dist-packages (from jinja2->torch>=1.8.0->ultralytics) (3.0.2)\n",
            "Downloading ultralytics-8.3.28-py3-none-any.whl (881 kB)\n",
            "\u001b[2K   \u001b[90m━━━━━━━━━━━━━━━━━━━━━━━━━━━━━━━━━━━━━━━━\u001b[0m \u001b[32m881.2/881.2 kB\u001b[0m \u001b[31m24.5 MB/s\u001b[0m eta \u001b[36m0:00:00\u001b[0m\n",
            "\u001b[?25hDownloading ultralytics_thop-2.0.10-py3-none-any.whl (26 kB)\n",
            "Installing collected packages: ultralytics-thop, ultralytics\n",
            "Successfully installed ultralytics-8.3.28 ultralytics-thop-2.0.10\n"
          ]
        }
      ],
      "source": [
        "!pip install torch torchvision torchaudio\n",
        "!pip install opencv-python\n",
        "!pip install matplotlib\n",
        "!pip install pyyaml\n",
        "!pip install tqdm\n",
        "!pip install ultralytics\n"
      ]
    },
    {
      "cell_type": "code",
      "execution_count": 6,
      "metadata": {
        "colab": {
          "base_uri": "https://localhost:8080/"
        },
        "id": "7zVdvU4TF_6P",
        "outputId": "25deeef9-4302-4b18-dbfe-421fe832b3ce"
      },
      "outputs": [
        {
          "output_type": "stream",
          "name": "stdout",
          "text": [
            "data.yaml created successfully.\n"
          ]
        }
      ],
      "source": [
        "import yaml\n",
        "\n",
        "data = {\n",
        "    'train': '/content/images/train',\n",
        "    'val': '/content/images/val',\n",
        "    'nc': 1,\n",
        "    'names': ['license_plate']\n",
        "}\n",
        "\n",
        "with open('data.yaml', 'w') as outfile:\n",
        "    yaml.dump(data, outfile, default_flow_style=False)\n",
        "\n",
        "print(\"data.yaml created successfully.\")\n"
      ]
    },
    {
      "cell_type": "code",
      "execution_count": 7,
      "metadata": {
        "colab": {
          "base_uri": "https://localhost:8080/"
        },
        "id": "cwXo3RofGoSS",
        "outputId": "d434aa29-5f2c-4e96-c0b7-ea20e97cd428"
      },
      "outputs": [
        {
          "output_type": "stream",
          "name": "stdout",
          "text": [
            "Creating new Ultralytics Settings v0.0.6 file ✅ \n",
            "View Ultralytics Settings with 'yolo settings' or at '/root/.config/Ultralytics/settings.json'\n",
            "Update Settings with 'yolo settings key=value', i.e. 'yolo settings runs_dir=path/to/dir'. For help see https://docs.ultralytics.com/quickstart/#ultralytics-settings.\n",
            "Downloading https://github.com/ultralytics/assets/releases/download/v8.3.0/yolov8n.pt to 'yolov8n.pt'...\n"
          ]
        },
        {
          "output_type": "stream",
          "name": "stderr",
          "text": [
            "100%|██████████| 6.25M/6.25M [00:00<00:00, 98.7MB/s]\n"
          ]
        },
        {
          "output_type": "stream",
          "name": "stdout",
          "text": [
            "Ultralytics 8.3.28 🚀 Python-3.10.12 torch-2.5.0+cu121 CUDA:0 (Tesla T4, 15102MiB)\n",
            "\u001b[34m\u001b[1mengine/trainer: \u001b[0mtask=detect, mode=train, model=yolov8n.pt, data=data.yaml, epochs=5, time=None, patience=100, batch=16, imgsz=640, save=True, save_period=-1, cache=False, device=None, workers=8, project=None, name=train2, exist_ok=False, pretrained=True, optimizer=auto, verbose=True, seed=0, deterministic=True, single_cls=False, rect=False, cos_lr=False, close_mosaic=10, resume=False, amp=True, fraction=1.0, profile=False, freeze=None, multi_scale=False, overlap_mask=True, mask_ratio=4, dropout=0.0, val=True, split=val, save_json=False, save_hybrid=False, conf=None, iou=0.7, max_det=300, half=False, dnn=False, plots=True, source=None, vid_stride=1, stream_buffer=False, visualize=False, augment=False, agnostic_nms=False, classes=None, retina_masks=False, embed=None, show=False, save_frames=False, save_txt=False, save_conf=False, save_crop=False, show_labels=True, show_conf=True, show_boxes=True, line_width=None, format=torchscript, keras=False, optimize=False, int8=False, dynamic=False, simplify=True, opset=None, workspace=4, nms=False, lr0=0.01, lrf=0.01, momentum=0.937, weight_decay=0.0005, warmup_epochs=3.0, warmup_momentum=0.8, warmup_bias_lr=0.1, box=7.5, cls=0.5, dfl=1.5, pose=12.0, kobj=1.0, label_smoothing=0.0, nbs=64, hsv_h=0.015, hsv_s=0.7, hsv_v=0.4, degrees=0.0, translate=0.1, scale=0.5, shear=0.0, perspective=0.0, flipud=0.0, fliplr=0.5, bgr=0.0, mosaic=1.0, mixup=0.0, copy_paste=0.0, copy_paste_mode=flip, auto_augment=randaugment, erasing=0.4, crop_fraction=1.0, cfg=None, tracker=botsort.yaml, save_dir=runs/detect/train2\n",
            "Downloading https://ultralytics.com/assets/Arial.ttf to '/root/.config/Ultralytics/Arial.ttf'...\n"
          ]
        },
        {
          "output_type": "stream",
          "name": "stderr",
          "text": [
            "100%|██████████| 755k/755k [00:00<00:00, 20.9MB/s]\n"
          ]
        },
        {
          "output_type": "stream",
          "name": "stdout",
          "text": [
            "Overriding model.yaml nc=80 with nc=1\n",
            "\n",
            "                   from  n    params  module                                       arguments                     \n",
            "  0                  -1  1       464  ultralytics.nn.modules.conv.Conv             [3, 16, 3, 2]                 \n",
            "  1                  -1  1      4672  ultralytics.nn.modules.conv.Conv             [16, 32, 3, 2]                \n",
            "  2                  -1  1      7360  ultralytics.nn.modules.block.C2f             [32, 32, 1, True]             \n",
            "  3                  -1  1     18560  ultralytics.nn.modules.conv.Conv             [32, 64, 3, 2]                \n",
            "  4                  -1  2     49664  ultralytics.nn.modules.block.C2f             [64, 64, 2, True]             \n",
            "  5                  -1  1     73984  ultralytics.nn.modules.conv.Conv             [64, 128, 3, 2]               \n",
            "  6                  -1  2    197632  ultralytics.nn.modules.block.C2f             [128, 128, 2, True]           \n",
            "  7                  -1  1    295424  ultralytics.nn.modules.conv.Conv             [128, 256, 3, 2]              \n",
            "  8                  -1  1    460288  ultralytics.nn.modules.block.C2f             [256, 256, 1, True]           \n",
            "  9                  -1  1    164608  ultralytics.nn.modules.block.SPPF            [256, 256, 5]                 \n",
            " 10                  -1  1         0  torch.nn.modules.upsampling.Upsample         [None, 2, 'nearest']          \n",
            " 11             [-1, 6]  1         0  ultralytics.nn.modules.conv.Concat           [1]                           \n",
            " 12                  -1  1    148224  ultralytics.nn.modules.block.C2f             [384, 128, 1]                 \n",
            " 13                  -1  1         0  torch.nn.modules.upsampling.Upsample         [None, 2, 'nearest']          \n",
            " 14             [-1, 4]  1         0  ultralytics.nn.modules.conv.Concat           [1]                           \n",
            " 15                  -1  1     37248  ultralytics.nn.modules.block.C2f             [192, 64, 1]                  \n",
            " 16                  -1  1     36992  ultralytics.nn.modules.conv.Conv             [64, 64, 3, 2]                \n",
            " 17            [-1, 12]  1         0  ultralytics.nn.modules.conv.Concat           [1]                           \n",
            " 18                  -1  1    123648  ultralytics.nn.modules.block.C2f             [192, 128, 1]                 \n",
            " 19                  -1  1    147712  ultralytics.nn.modules.conv.Conv             [128, 128, 3, 2]              \n",
            " 20             [-1, 9]  1         0  ultralytics.nn.modules.conv.Concat           [1]                           \n",
            " 21                  -1  1    493056  ultralytics.nn.modules.block.C2f             [384, 256, 1]                 \n",
            " 22        [15, 18, 21]  1    751507  ultralytics.nn.modules.head.Detect           [1, [64, 128, 256]]           \n",
            "Model summary: 225 layers, 3,011,043 parameters, 3,011,027 gradients, 8.2 GFLOPs\n",
            "\n",
            "Transferred 319/355 items from pretrained weights\n",
            "\u001b[34m\u001b[1mTensorBoard: \u001b[0mStart with 'tensorboard --logdir runs/detect/train2', view at http://localhost:6006/\n",
            "Freezing layer 'model.22.dfl.conv.weight'\n",
            "\u001b[34m\u001b[1mAMP: \u001b[0mrunning Automatic Mixed Precision (AMP) checks...\n",
            "Downloading https://github.com/ultralytics/assets/releases/download/v8.3.0/yolo11n.pt to 'yolo11n.pt'...\n"
          ]
        },
        {
          "output_type": "stream",
          "name": "stderr",
          "text": [
            "100%|██████████| 5.35M/5.35M [00:00<00:00, 105MB/s]\n"
          ]
        },
        {
          "output_type": "stream",
          "name": "stdout",
          "text": [
            "\u001b[34m\u001b[1mAMP: \u001b[0mchecks passed ✅\n"
          ]
        },
        {
          "output_type": "stream",
          "name": "stderr",
          "text": [
            "\u001b[34m\u001b[1mtrain: \u001b[0mScanning /content/labels/train... 4295 images, 0 backgrounds, 0 corrupt: 100%|██████████| 4295/4295 [00:02<00:00, 1930.89it/s]\n"
          ]
        },
        {
          "output_type": "stream",
          "name": "stdout",
          "text": [
            "\u001b[34m\u001b[1mtrain: \u001b[0mNew cache created: /content/labels/train.cache\n",
            "\u001b[34m\u001b[1malbumentations: \u001b[0mBlur(p=0.01, blur_limit=(3, 7)), MedianBlur(p=0.01, blur_limit=(3, 7)), ToGray(p=0.01, num_output_channels=3, method='weighted_average'), CLAHE(p=0.01, clip_limit=(1.0, 4.0), tile_grid_size=(8, 8))\n"
          ]
        },
        {
          "output_type": "stream",
          "name": "stderr",
          "text": [
            "/usr/local/lib/python3.10/dist-packages/albumentations/__init__.py:24: UserWarning: A new version of Albumentations is available: 1.4.21 (you have 1.4.20). Upgrade using: pip install -U albumentations. To disable automatic update checks, set the environment variable NO_ALBUMENTATIONS_UPDATE to 1.\n",
            "  check_for_updates()\n",
            "\u001b[34m\u001b[1mval: \u001b[0mScanning /content/labels/val... 1073 images, 0 backgrounds, 0 corrupt: 100%|██████████| 1073/1073 [00:01<00:00, 854.45it/s]"
          ]
        },
        {
          "output_type": "stream",
          "name": "stdout",
          "text": [
            "\u001b[34m\u001b[1mval: \u001b[0mNew cache created: /content/labels/val.cache\n"
          ]
        },
        {
          "output_type": "stream",
          "name": "stderr",
          "text": [
            "\n"
          ]
        },
        {
          "output_type": "stream",
          "name": "stdout",
          "text": [
            "Plotting labels to runs/detect/train2/labels.jpg... \n",
            "\u001b[34m\u001b[1moptimizer:\u001b[0m 'optimizer=auto' found, ignoring 'lr0=0.01' and 'momentum=0.937' and determining best 'optimizer', 'lr0' and 'momentum' automatically... \n",
            "\u001b[34m\u001b[1moptimizer:\u001b[0m AdamW(lr=0.002, momentum=0.9) with parameter groups 57 weight(decay=0.0), 64 weight(decay=0.0005), 63 bias(decay=0.0)\n",
            "\u001b[34m\u001b[1mTensorBoard: \u001b[0mmodel graph visualization added ✅\n",
            "Image sizes 640 train, 640 val\n",
            "Using 2 dataloader workers\n",
            "Logging results to \u001b[1mruns/detect/train2\u001b[0m\n",
            "Starting training for 5 epochs...\n",
            "\n",
            "      Epoch    GPU_mem   box_loss   cls_loss   dfl_loss  Instances       Size\n"
          ]
        },
        {
          "output_type": "stream",
          "name": "stderr",
          "text": [
            "        1/5      2.21G       1.56       2.29      1.215         19        640: 100%|██████████| 269/269 [01:46<00:00,  2.52it/s]\n",
            "                 Class     Images  Instances      Box(P          R      mAP50  mAP50-95): 100%|██████████| 34/34 [00:15<00:00,  2.17it/s]\n"
          ]
        },
        {
          "output_type": "stream",
          "name": "stdout",
          "text": [
            "                   all       1073       1573      0.605       0.58      0.557      0.254\n",
            "\n",
            "      Epoch    GPU_mem   box_loss   cls_loss   dfl_loss  Instances       Size\n"
          ]
        },
        {
          "output_type": "stream",
          "name": "stderr",
          "text": [
            "        2/5      2.26G      1.645      1.433      1.246         13        640: 100%|██████████| 269/269 [01:43<00:00,  2.59it/s]\n",
            "                 Class     Images  Instances      Box(P          R      mAP50  mAP50-95): 100%|██████████| 34/34 [00:13<00:00,  2.46it/s]\n"
          ]
        },
        {
          "output_type": "stream",
          "name": "stdout",
          "text": [
            "                   all       1073       1573      0.748      0.643      0.677      0.305\n",
            "\n",
            "      Epoch    GPU_mem   box_loss   cls_loss   dfl_loss  Instances       Size\n"
          ]
        },
        {
          "output_type": "stream",
          "name": "stderr",
          "text": [
            "        3/5      2.23G      1.591      1.217      1.219         14        640: 100%|██████████| 269/269 [01:42<00:00,  2.63it/s]\n",
            "                 Class     Images  Instances      Box(P          R      mAP50  mAP50-95): 100%|██████████| 34/34 [00:14<00:00,  2.41it/s]\n"
          ]
        },
        {
          "output_type": "stream",
          "name": "stdout",
          "text": [
            "                   all       1073       1573      0.771      0.665      0.712      0.341\n",
            "\n",
            "      Epoch    GPU_mem   box_loss   cls_loss   dfl_loss  Instances       Size\n"
          ]
        },
        {
          "output_type": "stream",
          "name": "stderr",
          "text": [
            "        4/5      2.25G      1.549      1.104      1.184         18        640: 100%|██████████| 269/269 [01:42<00:00,  2.63it/s]\n",
            "                 Class     Images  Instances      Box(P          R      mAP50  mAP50-95): 100%|██████████| 34/34 [00:14<00:00,  2.38it/s]"
          ]
        },
        {
          "output_type": "stream",
          "name": "stdout",
          "text": [
            "                   all       1073       1573      0.829      0.705       0.76      0.367\n"
          ]
        },
        {
          "output_type": "stream",
          "name": "stderr",
          "text": [
            "\n"
          ]
        },
        {
          "output_type": "stream",
          "name": "stdout",
          "text": [
            "\n",
            "      Epoch    GPU_mem   box_loss   cls_loss   dfl_loss  Instances       Size\n"
          ]
        },
        {
          "output_type": "stream",
          "name": "stderr",
          "text": [
            "        5/5      2.24G      1.479     0.9676      1.144         23        640: 100%|██████████| 269/269 [01:41<00:00,  2.64it/s]\n",
            "                 Class     Images  Instances      Box(P          R      mAP50  mAP50-95): 100%|██████████| 34/34 [00:13<00:00,  2.58it/s]"
          ]
        },
        {
          "output_type": "stream",
          "name": "stdout",
          "text": [
            "                   all       1073       1573      0.849      0.726      0.803      0.416\n"
          ]
        },
        {
          "output_type": "stream",
          "name": "stderr",
          "text": [
            "\n"
          ]
        },
        {
          "output_type": "stream",
          "name": "stdout",
          "text": [
            "\n",
            "5 epochs completed in 0.167 hours.\n",
            "Optimizer stripped from runs/detect/train2/weights/last.pt, 6.2MB\n",
            "Optimizer stripped from runs/detect/train2/weights/best.pt, 6.2MB\n",
            "\n",
            "Validating runs/detect/train2/weights/best.pt...\n",
            "Ultralytics 8.3.28 🚀 Python-3.10.12 torch-2.5.0+cu121 CUDA:0 (Tesla T4, 15102MiB)\n",
            "Model summary (fused): 168 layers, 3,005,843 parameters, 0 gradients, 8.1 GFLOPs\n"
          ]
        },
        {
          "output_type": "stream",
          "name": "stderr",
          "text": [
            "                 Class     Images  Instances      Box(P          R      mAP50  mAP50-95): 100%|██████████| 34/34 [00:13<00:00,  2.52it/s]\n"
          ]
        },
        {
          "output_type": "stream",
          "name": "stdout",
          "text": [
            "                   all       1073       1573      0.849      0.726      0.803      0.416\n",
            "Speed: 0.2ms preprocess, 2.1ms inference, 0.0ms loss, 2.3ms postprocess per image\n",
            "Results saved to \u001b[1mruns/detect/train2\u001b[0m\n"
          ]
        },
        {
          "output_type": "execute_result",
          "data": {
            "text/plain": [
              "ultralytics.utils.metrics.DetMetrics object with attributes:\n",
              "\n",
              "ap_class_index: array([0])\n",
              "box: ultralytics.utils.metrics.Metric object\n",
              "confusion_matrix: <ultralytics.utils.metrics.ConfusionMatrix object at 0x7dfad6f582e0>\n",
              "curves: ['Precision-Recall(B)', 'F1-Confidence(B)', 'Precision-Confidence(B)', 'Recall-Confidence(B)']\n",
              "curves_results: [[array([          0,    0.001001,    0.002002,    0.003003,    0.004004,    0.005005,    0.006006,    0.007007,    0.008008,    0.009009,     0.01001,    0.011011,    0.012012,    0.013013,    0.014014,    0.015015,    0.016016,    0.017017,    0.018018,    0.019019,     0.02002,    0.021021,    0.022022,    0.023023,\n",
              "          0.024024,    0.025025,    0.026026,    0.027027,    0.028028,    0.029029,     0.03003,    0.031031,    0.032032,    0.033033,    0.034034,    0.035035,    0.036036,    0.037037,    0.038038,    0.039039,     0.04004,    0.041041,    0.042042,    0.043043,    0.044044,    0.045045,    0.046046,    0.047047,\n",
              "          0.048048,    0.049049,     0.05005,    0.051051,    0.052052,    0.053053,    0.054054,    0.055055,    0.056056,    0.057057,    0.058058,    0.059059,     0.06006,    0.061061,    0.062062,    0.063063,    0.064064,    0.065065,    0.066066,    0.067067,    0.068068,    0.069069,     0.07007,    0.071071,\n",
              "          0.072072,    0.073073,    0.074074,    0.075075,    0.076076,    0.077077,    0.078078,    0.079079,     0.08008,    0.081081,    0.082082,    0.083083,    0.084084,    0.085085,    0.086086,    0.087087,    0.088088,    0.089089,     0.09009,    0.091091,    0.092092,    0.093093,    0.094094,    0.095095,\n",
              "          0.096096,    0.097097,    0.098098,    0.099099,      0.1001,      0.1011,      0.1021,      0.1031,      0.1041,     0.10511,     0.10611,     0.10711,     0.10811,     0.10911,     0.11011,     0.11111,     0.11211,     0.11311,     0.11411,     0.11512,     0.11612,     0.11712,     0.11812,     0.11912,\n",
              "           0.12012,     0.12112,     0.12212,     0.12312,     0.12412,     0.12513,     0.12613,     0.12713,     0.12813,     0.12913,     0.13013,     0.13113,     0.13213,     0.13313,     0.13413,     0.13514,     0.13614,     0.13714,     0.13814,     0.13914,     0.14014,     0.14114,     0.14214,     0.14314,\n",
              "           0.14414,     0.14515,     0.14615,     0.14715,     0.14815,     0.14915,     0.15015,     0.15115,     0.15215,     0.15315,     0.15415,     0.15516,     0.15616,     0.15716,     0.15816,     0.15916,     0.16016,     0.16116,     0.16216,     0.16316,     0.16416,     0.16517,     0.16617,     0.16717,\n",
              "           0.16817,     0.16917,     0.17017,     0.17117,     0.17217,     0.17317,     0.17417,     0.17518,     0.17618,     0.17718,     0.17818,     0.17918,     0.18018,     0.18118,     0.18218,     0.18318,     0.18418,     0.18519,     0.18619,     0.18719,     0.18819,     0.18919,     0.19019,     0.19119,\n",
              "           0.19219,     0.19319,     0.19419,      0.1952,      0.1962,      0.1972,      0.1982,      0.1992,      0.2002,      0.2012,      0.2022,      0.2032,      0.2042,     0.20521,     0.20621,     0.20721,     0.20821,     0.20921,     0.21021,     0.21121,     0.21221,     0.21321,     0.21421,     0.21522,\n",
              "           0.21622,     0.21722,     0.21822,     0.21922,     0.22022,     0.22122,     0.22222,     0.22322,     0.22422,     0.22523,     0.22623,     0.22723,     0.22823,     0.22923,     0.23023,     0.23123,     0.23223,     0.23323,     0.23423,     0.23524,     0.23624,     0.23724,     0.23824,     0.23924,\n",
              "           0.24024,     0.24124,     0.24224,     0.24324,     0.24424,     0.24525,     0.24625,     0.24725,     0.24825,     0.24925,     0.25025,     0.25125,     0.25225,     0.25325,     0.25425,     0.25526,     0.25626,     0.25726,     0.25826,     0.25926,     0.26026,     0.26126,     0.26226,     0.26326,\n",
              "           0.26426,     0.26527,     0.26627,     0.26727,     0.26827,     0.26927,     0.27027,     0.27127,     0.27227,     0.27327,     0.27427,     0.27528,     0.27628,     0.27728,     0.27828,     0.27928,     0.28028,     0.28128,     0.28228,     0.28328,     0.28428,     0.28529,     0.28629,     0.28729,\n",
              "           0.28829,     0.28929,     0.29029,     0.29129,     0.29229,     0.29329,     0.29429,      0.2953,      0.2963,      0.2973,      0.2983,      0.2993,      0.3003,      0.3013,      0.3023,      0.3033,      0.3043,     0.30531,     0.30631,     0.30731,     0.30831,     0.30931,     0.31031,     0.31131,\n",
              "           0.31231,     0.31331,     0.31431,     0.31532,     0.31632,     0.31732,     0.31832,     0.31932,     0.32032,     0.32132,     0.32232,     0.32332,     0.32432,     0.32533,     0.32633,     0.32733,     0.32833,     0.32933,     0.33033,     0.33133,     0.33233,     0.33333,     0.33433,     0.33534,\n",
              "           0.33634,     0.33734,     0.33834,     0.33934,     0.34034,     0.34134,     0.34234,     0.34334,     0.34434,     0.34535,     0.34635,     0.34735,     0.34835,     0.34935,     0.35035,     0.35135,     0.35235,     0.35335,     0.35435,     0.35536,     0.35636,     0.35736,     0.35836,     0.35936,\n",
              "           0.36036,     0.36136,     0.36236,     0.36336,     0.36436,     0.36537,     0.36637,     0.36737,     0.36837,     0.36937,     0.37037,     0.37137,     0.37237,     0.37337,     0.37437,     0.37538,     0.37638,     0.37738,     0.37838,     0.37938,     0.38038,     0.38138,     0.38238,     0.38338,\n",
              "           0.38438,     0.38539,     0.38639,     0.38739,     0.38839,     0.38939,     0.39039,     0.39139,     0.39239,     0.39339,     0.39439,      0.3954,      0.3964,      0.3974,      0.3984,      0.3994,      0.4004,      0.4014,      0.4024,      0.4034,      0.4044,     0.40541,     0.40641,     0.40741,\n",
              "           0.40841,     0.40941,     0.41041,     0.41141,     0.41241,     0.41341,     0.41441,     0.41542,     0.41642,     0.41742,     0.41842,     0.41942,     0.42042,     0.42142,     0.42242,     0.42342,     0.42442,     0.42543,     0.42643,     0.42743,     0.42843,     0.42943,     0.43043,     0.43143,\n",
              "           0.43243,     0.43343,     0.43443,     0.43544,     0.43644,     0.43744,     0.43844,     0.43944,     0.44044,     0.44144,     0.44244,     0.44344,     0.44444,     0.44545,     0.44645,     0.44745,     0.44845,     0.44945,     0.45045,     0.45145,     0.45245,     0.45345,     0.45445,     0.45546,\n",
              "           0.45646,     0.45746,     0.45846,     0.45946,     0.46046,     0.46146,     0.46246,     0.46346,     0.46446,     0.46547,     0.46647,     0.46747,     0.46847,     0.46947,     0.47047,     0.47147,     0.47247,     0.47347,     0.47447,     0.47548,     0.47648,     0.47748,     0.47848,     0.47948,\n",
              "           0.48048,     0.48148,     0.48248,     0.48348,     0.48448,     0.48549,     0.48649,     0.48749,     0.48849,     0.48949,     0.49049,     0.49149,     0.49249,     0.49349,     0.49449,      0.4955,      0.4965,      0.4975,      0.4985,      0.4995,      0.5005,      0.5015,      0.5025,      0.5035,\n",
              "            0.5045,     0.50551,     0.50651,     0.50751,     0.50851,     0.50951,     0.51051,     0.51151,     0.51251,     0.51351,     0.51451,     0.51552,     0.51652,     0.51752,     0.51852,     0.51952,     0.52052,     0.52152,     0.52252,     0.52352,     0.52452,     0.52553,     0.52653,     0.52753,\n",
              "           0.52853,     0.52953,     0.53053,     0.53153,     0.53253,     0.53353,     0.53453,     0.53554,     0.53654,     0.53754,     0.53854,     0.53954,     0.54054,     0.54154,     0.54254,     0.54354,     0.54454,     0.54555,     0.54655,     0.54755,     0.54855,     0.54955,     0.55055,     0.55155,\n",
              "           0.55255,     0.55355,     0.55455,     0.55556,     0.55656,     0.55756,     0.55856,     0.55956,     0.56056,     0.56156,     0.56256,     0.56356,     0.56456,     0.56557,     0.56657,     0.56757,     0.56857,     0.56957,     0.57057,     0.57157,     0.57257,     0.57357,     0.57457,     0.57558,\n",
              "           0.57658,     0.57758,     0.57858,     0.57958,     0.58058,     0.58158,     0.58258,     0.58358,     0.58458,     0.58559,     0.58659,     0.58759,     0.58859,     0.58959,     0.59059,     0.59159,     0.59259,     0.59359,     0.59459,      0.5956,      0.5966,      0.5976,      0.5986,      0.5996,\n",
              "            0.6006,      0.6016,      0.6026,      0.6036,      0.6046,     0.60561,     0.60661,     0.60761,     0.60861,     0.60961,     0.61061,     0.61161,     0.61261,     0.61361,     0.61461,     0.61562,     0.61662,     0.61762,     0.61862,     0.61962,     0.62062,     0.62162,     0.62262,     0.62362,\n",
              "           0.62462,     0.62563,     0.62663,     0.62763,     0.62863,     0.62963,     0.63063,     0.63163,     0.63263,     0.63363,     0.63463,     0.63564,     0.63664,     0.63764,     0.63864,     0.63964,     0.64064,     0.64164,     0.64264,     0.64364,     0.64464,     0.64565,     0.64665,     0.64765,\n",
              "           0.64865,     0.64965,     0.65065,     0.65165,     0.65265,     0.65365,     0.65465,     0.65566,     0.65666,     0.65766,     0.65866,     0.65966,     0.66066,     0.66166,     0.66266,     0.66366,     0.66466,     0.66567,     0.66667,     0.66767,     0.66867,     0.66967,     0.67067,     0.67167,\n",
              "           0.67267,     0.67367,     0.67467,     0.67568,     0.67668,     0.67768,     0.67868,     0.67968,     0.68068,     0.68168,     0.68268,     0.68368,     0.68468,     0.68569,     0.68669,     0.68769,     0.68869,     0.68969,     0.69069,     0.69169,     0.69269,     0.69369,     0.69469,      0.6957,\n",
              "            0.6967,      0.6977,      0.6987,      0.6997,      0.7007,      0.7017,      0.7027,      0.7037,      0.7047,     0.70571,     0.70671,     0.70771,     0.70871,     0.70971,     0.71071,     0.71171,     0.71271,     0.71371,     0.71471,     0.71572,     0.71672,     0.71772,     0.71872,     0.71972,\n",
              "           0.72072,     0.72172,     0.72272,     0.72372,     0.72472,     0.72573,     0.72673,     0.72773,     0.72873,     0.72973,     0.73073,     0.73173,     0.73273,     0.73373,     0.73473,     0.73574,     0.73674,     0.73774,     0.73874,     0.73974,     0.74074,     0.74174,     0.74274,     0.74374,\n",
              "           0.74474,     0.74575,     0.74675,     0.74775,     0.74875,     0.74975,     0.75075,     0.75175,     0.75275,     0.75375,     0.75475,     0.75576,     0.75676,     0.75776,     0.75876,     0.75976,     0.76076,     0.76176,     0.76276,     0.76376,     0.76476,     0.76577,     0.76677,     0.76777,\n",
              "           0.76877,     0.76977,     0.77077,     0.77177,     0.77277,     0.77377,     0.77477,     0.77578,     0.77678,     0.77778,     0.77878,     0.77978,     0.78078,     0.78178,     0.78278,     0.78378,     0.78478,     0.78579,     0.78679,     0.78779,     0.78879,     0.78979,     0.79079,     0.79179,\n",
              "           0.79279,     0.79379,     0.79479,      0.7958,      0.7968,      0.7978,      0.7988,      0.7998,      0.8008,      0.8018,      0.8028,      0.8038,      0.8048,     0.80581,     0.80681,     0.80781,     0.80881,     0.80981,     0.81081,     0.81181,     0.81281,     0.81381,     0.81481,     0.81582,\n",
              "           0.81682,     0.81782,     0.81882,     0.81982,     0.82082,     0.82182,     0.82282,     0.82382,     0.82482,     0.82583,     0.82683,     0.82783,     0.82883,     0.82983,     0.83083,     0.83183,     0.83283,     0.83383,     0.83483,     0.83584,     0.83684,     0.83784,     0.83884,     0.83984,\n",
              "           0.84084,     0.84184,     0.84284,     0.84384,     0.84484,     0.84585,     0.84685,     0.84785,     0.84885,     0.84985,     0.85085,     0.85185,     0.85285,     0.85385,     0.85485,     0.85586,     0.85686,     0.85786,     0.85886,     0.85986,     0.86086,     0.86186,     0.86286,     0.86386,\n",
              "           0.86486,     0.86587,     0.86687,     0.86787,     0.86887,     0.86987,     0.87087,     0.87187,     0.87287,     0.87387,     0.87487,     0.87588,     0.87688,     0.87788,     0.87888,     0.87988,     0.88088,     0.88188,     0.88288,     0.88388,     0.88488,     0.88589,     0.88689,     0.88789,\n",
              "           0.88889,     0.88989,     0.89089,     0.89189,     0.89289,     0.89389,     0.89489,      0.8959,      0.8969,      0.8979,      0.8989,      0.8999,      0.9009,      0.9019,      0.9029,      0.9039,      0.9049,     0.90591,     0.90691,     0.90791,     0.90891,     0.90991,     0.91091,     0.91191,\n",
              "           0.91291,     0.91391,     0.91491,     0.91592,     0.91692,     0.91792,     0.91892,     0.91992,     0.92092,     0.92192,     0.92292,     0.92392,     0.92492,     0.92593,     0.92693,     0.92793,     0.92893,     0.92993,     0.93093,     0.93193,     0.93293,     0.93393,     0.93493,     0.93594,\n",
              "           0.93694,     0.93794,     0.93894,     0.93994,     0.94094,     0.94194,     0.94294,     0.94394,     0.94494,     0.94595,     0.94695,     0.94795,     0.94895,     0.94995,     0.95095,     0.95195,     0.95295,     0.95395,     0.95495,     0.95596,     0.95696,     0.95796,     0.95896,     0.95996,\n",
              "           0.96096,     0.96196,     0.96296,     0.96396,     0.96496,     0.96597,     0.96697,     0.96797,     0.96897,     0.96997,     0.97097,     0.97197,     0.97297,     0.97397,     0.97497,     0.97598,     0.97698,     0.97798,     0.97898,     0.97998,     0.98098,     0.98198,     0.98298,     0.98398,\n",
              "           0.98498,     0.98599,     0.98699,     0.98799,     0.98899,     0.98999,     0.99099,     0.99199,     0.99299,     0.99399,     0.99499,       0.996,       0.997,       0.998,       0.999,           1]), array([[          1,           1,           1,           1,           1,           1,           1,           1,           1,           1,           1,           1,           1,           1,           1,           1,           1,           1,           1,           1,           1,           1,           1,\n",
              "                  1,           1,           1,           1,           1,           1,           1,           1,           1,           1,           1,           1,           1,           1,           1,           1,           1,           1,           1,           1,           1,           1,           1,\n",
              "                  1,           1,           1,           1,           1,           1,           1,           1,           1,           1,           1,           1,           1,           1,           1,           1,           1,           1,           1,           1,           1,           1,           1,\n",
              "                  1,           1,           1,           1,           1,           1,           1,           1,           1,           1,           1,           1,           1,           1,           1,           1,           1,           1,           1,           1,           1,           1,           1,\n",
              "                  1,           1,           1,           1,           1,           1,           1,           1,           1,           1,           1,     0.99398,     0.99398,      0.9883,      0.9883,      0.9883,     0.98352,     0.98352,     0.98352,     0.98352,     0.98352,     0.98352,     0.97861,\n",
              "            0.97861,     0.97861,     0.97585,     0.97585,     0.97585,     0.97585,     0.97585,     0.97585,     0.97585,     0.97585,     0.97585,     0.97585,     0.97585,     0.97585,     0.97143,     0.96861,     0.96861,     0.96861,     0.96861,     0.96861,     0.96861,     0.96861,     0.96861,\n",
              "            0.96715,     0.96715,     0.96715,     0.96715,     0.96715,     0.96715,     0.96715,     0.96715,     0.96715,     0.96715,     0.96715,     0.96715,     0.96715,     0.96715,     0.96715,     0.96715,     0.96715,     0.96715,     0.96715,     0.96715,     0.96715,     0.96715,     0.96715,\n",
              "            0.96715,     0.96715,     0.96715,     0.96715,     0.96715,     0.96715,     0.96715,     0.96715,     0.96429,     0.96429,     0.96429,     0.96429,     0.96429,     0.96429,     0.96429,     0.96429,     0.96429,     0.96429,     0.96429,     0.96429,     0.96429,     0.96429,     0.96429,\n",
              "            0.96429,     0.96429,     0.96429,     0.96429,     0.96429,     0.96286,     0.96286,     0.96286,     0.96286,     0.96286,     0.96286,     0.96286,     0.96286,     0.96286,     0.96286,     0.96286,     0.96286,     0.96286,     0.96286,     0.96286,     0.96286,     0.96286,     0.96286,\n",
              "            0.96286,     0.96286,     0.96286,     0.96286,     0.96286,     0.96286,     0.96286,     0.96286,     0.96286,     0.96286,     0.96286,     0.96286,     0.96286,     0.96286,     0.96286,     0.96286,     0.96286,     0.96286,     0.96286,     0.96286,     0.96286,     0.96286,     0.96286,\n",
              "            0.96286,     0.96212,     0.96212,     0.96212,     0.96212,     0.96212,     0.96212,     0.96212,     0.96212,     0.96212,     0.96212,     0.96212,     0.96047,     0.96047,     0.96047,     0.96047,     0.96047,     0.96047,     0.96047,     0.96047,     0.96047,     0.96047,     0.96047,\n",
              "            0.96047,     0.96047,     0.96047,     0.96047,     0.96047,     0.96047,     0.96047,     0.96047,     0.96047,     0.96047,     0.95898,     0.95898,     0.95898,     0.95898,     0.95898,     0.95898,     0.95898,     0.95898,     0.95898,     0.95898,     0.95898,     0.95898,     0.95898,\n",
              "            0.95898,     0.95898,     0.95898,     0.95898,     0.95898,     0.95898,     0.95898,     0.95898,     0.95898,     0.95898,     0.95898,     0.95898,     0.95898,     0.95898,     0.95898,     0.95898,     0.95898,     0.95898,     0.95898,     0.95898,     0.95898,     0.95898,     0.95898,\n",
              "            0.95898,     0.95898,     0.95898,     0.95898,     0.95898,     0.95898,     0.95898,     0.95898,     0.95898,     0.95898,     0.95898,     0.95898,     0.95898,     0.95793,     0.95793,     0.95793,     0.95793,     0.95793,     0.95793,     0.95793,     0.95764,     0.95764,     0.95764,\n",
              "            0.95764,     0.95764,     0.95764,     0.95764,     0.95764,     0.95764,     0.95764,     0.95764,     0.95764,     0.95683,     0.95683,     0.95683,     0.95683,     0.95683,     0.95683,     0.95683,     0.95567,     0.95567,     0.95567,     0.95567,     0.95567,     0.95408,     0.95408,\n",
              "            0.95408,     0.95408,     0.95408,     0.95408,     0.95408,     0.95408,     0.95408,     0.95408,     0.95408,     0.95408,     0.95408,     0.95408,     0.95387,     0.95387,     0.95387,     0.95387,     0.95387,     0.95387,     0.95387,     0.95387,     0.95387,     0.95387,     0.95387,\n",
              "              0.953,       0.953,       0.953,       0.953,       0.953,       0.953,     0.95169,     0.95169,     0.95056,     0.95056,     0.95056,     0.94913,     0.94864,     0.94864,     0.94864,     0.94864,     0.94864,     0.94864,     0.94864,     0.94864,     0.94864,     0.94864,     0.94864,\n",
              "            0.94864,     0.94864,     0.94864,     0.94864,     0.94864,     0.94864,     0.94864,     0.94864,     0.94857,     0.94857,     0.94857,     0.94857,     0.94857,     0.94857,     0.94857,     0.94857,     0.94857,     0.94857,     0.94857,     0.94857,     0.94857,     0.94857,     0.94857,\n",
              "            0.94857,     0.94857,     0.94857,     0.94857,     0.94857,     0.94857,     0.94857,     0.94857,     0.94744,     0.94744,     0.94665,     0.94665,     0.94665,     0.94665,     0.94665,     0.94665,     0.94665,     0.94665,     0.94665,     0.94665,     0.94665,     0.94665,     0.94665,\n",
              "            0.94665,     0.94665,     0.94665,     0.94558,     0.94558,     0.94444,     0.94355,     0.94355,     0.94355,     0.94259,     0.94259,     0.94259,     0.94248,     0.94248,     0.94248,     0.94248,     0.94248,     0.94248,     0.94248,     0.94248,     0.94248,     0.94194,     0.94194,\n",
              "            0.94194,     0.94194,     0.94194,     0.94194,     0.94103,     0.94103,     0.94103,     0.94015,     0.94015,     0.94015,     0.94015,     0.94015,     0.94015,     0.94015,     0.94015,     0.94015,     0.94015,     0.94015,     0.94015,     0.93966,     0.93966,     0.93966,     0.93966,\n",
              "            0.93966,     0.93966,     0.93895,     0.93895,     0.93895,     0.93895,     0.93833,     0.93833,     0.93833,     0.93833,     0.93795,     0.93795,     0.93795,     0.93795,     0.93795,     0.93795,     0.93795,     0.93705,     0.93705,     0.93522,     0.93522,     0.93522,     0.93364,\n",
              "            0.93364,     0.93364,     0.93364,     0.93364,     0.93179,     0.93179,     0.93068,     0.93068,     0.93068,     0.93068,     0.93068,     0.93068,     0.93068,     0.93068,     0.93068,     0.92986,     0.92986,     0.92897,     0.92849,     0.92849,     0.92849,     0.92849,      0.9277,\n",
              "             0.9277,     0.92691,     0.92691,     0.92637,     0.92637,     0.92637,     0.92637,     0.92552,     0.92459,     0.92395,     0.92395,     0.92395,     0.92395,     0.92395,     0.92395,     0.92395,     0.92395,     0.92395,     0.92395,     0.92395,     0.92395,     0.92395,     0.92395,\n",
              "            0.92395,     0.92395,     0.92395,     0.92395,     0.92395,     0.92395,     0.92395,     0.92395,     0.92395,     0.92395,     0.92395,     0.92395,     0.92395,     0.92395,     0.92395,     0.92395,     0.92395,     0.92395,     0.92395,     0.92331,     0.92331,     0.92331,     0.92284,\n",
              "            0.92284,     0.92284,     0.92284,      0.9202,     0.91892,     0.91892,     0.91892,     0.91892,     0.91892,     0.91865,     0.91865,     0.91865,     0.91865,     0.91865,     0.91821,     0.91821,     0.91821,     0.91821,     0.91821,     0.91821,     0.91821,     0.91821,     0.91821,\n",
              "            0.91821,     0.91748,     0.91748,     0.91699,     0.91699,     0.91699,     0.91555,     0.91555,       0.915,       0.915,       0.915,     0.91485,     0.91485,     0.91485,     0.91485,     0.91485,     0.91485,     0.91251,     0.91251,     0.91207,     0.91207,     0.91207,     0.91095,\n",
              "            0.91095,     0.91095,     0.91095,     0.90943,     0.90876,     0.90876,     0.90817,     0.90817,     0.90693,     0.90693,     0.90693,     0.90662,     0.90662,     0.90662,     0.90662,     0.90527,     0.90527,     0.90527,     0.90527,     0.90527,     0.90527,     0.90527,     0.90527,\n",
              "            0.90463,     0.90391,     0.90177,     0.90177,     0.90167,     0.90167,     0.90167,     0.90167,     0.90167,     0.90105,     0.90061,     0.90061,     0.90061,     0.89844,      0.8975,      0.8975,      0.8975,      0.8975,     0.89717,     0.89717,     0.89717,     0.89649,     0.89617,\n",
              "            0.89617,     0.89617,      0.8955,     0.89483,     0.89301,     0.89301,     0.89301,     0.89103,     0.89103,     0.88972,     0.88926,     0.88926,     0.88889,     0.88889,     0.88834,     0.88834,     0.88651,     0.88651,     0.88588,     0.88534,     0.88399,     0.88365,     0.88365,\n",
              "            0.88312,     0.88269,     0.88269,     0.88136,     0.88093,     0.88093,     0.88042,      0.8791,     0.87818,     0.87818,     0.87818,     0.87768,     0.87728,     0.87728,     0.87323,     0.87314,     0.87314,     0.87314,     0.87314,     0.86832,     0.86832,     0.86832,     0.86785,\n",
              "            0.86785,     0.86682,     0.86682,     0.86371,     0.86315,     0.85747,     0.85639,     0.85467,     0.85414,     0.85191,     0.85191,     0.85086,     0.85034,     0.84804,     0.84638,     0.84587,     0.84474,     0.84076,     0.84026,     0.83855,     0.83696,     0.83526,     0.83309,\n",
              "            0.83261,     0.83047,     0.82953,     0.82871,     0.82871,     0.82778,     0.82498,     0.82278,      0.8213,     0.82098,     0.81825,     0.81453,     0.81074,     0.80381,     0.80041,     0.80041,     0.80014,     0.79865,     0.79839,     0.79745,     0.79612,     0.79573,     0.79441,\n",
              "            0.79429,     0.79429,     0.79142,     0.79103,     0.78923,      0.7873,     0.78604,     0.78447,     0.78447,     0.78447,     0.78447,     0.78107,     0.78021,     0.76913,     0.76812,     0.76812,     0.76265,     0.76232,     0.76167,     0.75866,     0.75554,     0.75306,        0.75,\n",
              "            0.74757,     0.74592,     0.74294,     0.74294,     0.74087,     0.73766,     0.73694,      0.7355,     0.73349,     0.72526,     0.71071,     0.70885,     0.70598,     0.70184,     0.70184,     0.70184,     0.70184,     0.70056,     0.70056,     0.69801,     0.69472,     0.68638,     0.68359,\n",
              "            0.68099,     0.67696,     0.67696,     0.67641,     0.67622,     0.67264,     0.66999,     0.66407,     0.66065,     0.65676,     0.65244,     0.65096,     0.65066,     0.64612,     0.64389,     0.64169,     0.64169,     0.63951,     0.63937,     0.63752,     0.63186,     0.63186,     0.62674,\n",
              "            0.62512,     0.62279,     0.62179,     0.61542,     0.61348,     0.60713,     0.60331,     0.60238,     0.58884,     0.58884,     0.58771,     0.58703,     0.57741,     0.55803,     0.55803,     0.55775,       0.557,     0.55551,     0.54721,     0.54627,      0.5446,      0.5446,     0.54101,\n",
              "            0.53989,     0.53317,     0.53081,     0.53057,     0.52189,     0.51846,     0.50905,     0.49669,      0.4904,     0.48462,     0.48377,     0.47632,     0.47106,     0.46564,     0.46282,      0.4619,      0.4567,     0.45536,     0.44885,     0.44611,     0.44059,     0.43194,      0.4257,\n",
              "            0.42162,     0.42102,     0.39249,     0.38097,     0.37197,     0.35081,     0.34798,     0.34665,     0.34027,     0.33325,     0.33309,     0.32738,     0.32458,     0.32115,     0.31587,     0.30448,     0.29051,     0.27948,     0.27625,     0.26867,     0.26516,     0.23737,     0.22109,\n",
              "            0.22006,     0.21946,     0.20151,     0.18784,     0.18775,     0.16979,      0.1646,     0.16103,     0.15244,     0.14707,     0.14362,     0.14324,     0.14153,     0.13876,     0.13553,     0.12595,     0.12377,     0.12132,     0.11727,     0.11415,    0.095295,     0.09149,    0.085111,\n",
              "           0.083971,    0.069057,    0.068171,    0.067286,    0.066401,    0.065515,     0.06463,    0.063745,    0.062859,    0.061974,    0.061089,    0.060203,    0.059318,    0.058433,    0.057547,    0.056662,    0.055776,    0.054891,    0.054006,     0.05312,    0.052235,     0.05135,    0.050464,\n",
              "           0.049579,    0.048694,    0.047808,    0.046923,    0.046038,    0.045152,    0.044267,    0.043382,    0.042496,    0.041611,    0.040726,     0.03984,    0.038955,     0.03807,    0.037184,    0.036299,    0.035414,    0.034528,    0.033643,    0.032758,    0.031872,    0.030987,    0.030102,\n",
              "           0.029216,    0.028331,    0.027446,     0.02656,    0.025675,     0.02479,    0.023904,    0.023019,    0.022134,    0.021248,    0.020363,    0.019478,    0.018592,    0.017707,    0.016821,    0.015936,    0.015051,    0.014165,     0.01328,    0.012395,    0.011509,    0.010624,   0.0097388,\n",
              "          0.0088534,   0.0079681,   0.0070827,   0.0061974,    0.005312,   0.0044267,   0.0035414,    0.002656,   0.0017707,  0.00088534,           0]]), 'Recall', 'Precision'], [array([          0,    0.001001,    0.002002,    0.003003,    0.004004,    0.005005,    0.006006,    0.007007,    0.008008,    0.009009,     0.01001,    0.011011,    0.012012,    0.013013,    0.014014,    0.015015,    0.016016,    0.017017,    0.018018,    0.019019,     0.02002,    0.021021,    0.022022,    0.023023,\n",
              "          0.024024,    0.025025,    0.026026,    0.027027,    0.028028,    0.029029,     0.03003,    0.031031,    0.032032,    0.033033,    0.034034,    0.035035,    0.036036,    0.037037,    0.038038,    0.039039,     0.04004,    0.041041,    0.042042,    0.043043,    0.044044,    0.045045,    0.046046,    0.047047,\n",
              "          0.048048,    0.049049,     0.05005,    0.051051,    0.052052,    0.053053,    0.054054,    0.055055,    0.056056,    0.057057,    0.058058,    0.059059,     0.06006,    0.061061,    0.062062,    0.063063,    0.064064,    0.065065,    0.066066,    0.067067,    0.068068,    0.069069,     0.07007,    0.071071,\n",
              "          0.072072,    0.073073,    0.074074,    0.075075,    0.076076,    0.077077,    0.078078,    0.079079,     0.08008,    0.081081,    0.082082,    0.083083,    0.084084,    0.085085,    0.086086,    0.087087,    0.088088,    0.089089,     0.09009,    0.091091,    0.092092,    0.093093,    0.094094,    0.095095,\n",
              "          0.096096,    0.097097,    0.098098,    0.099099,      0.1001,      0.1011,      0.1021,      0.1031,      0.1041,     0.10511,     0.10611,     0.10711,     0.10811,     0.10911,     0.11011,     0.11111,     0.11211,     0.11311,     0.11411,     0.11512,     0.11612,     0.11712,     0.11812,     0.11912,\n",
              "           0.12012,     0.12112,     0.12212,     0.12312,     0.12412,     0.12513,     0.12613,     0.12713,     0.12813,     0.12913,     0.13013,     0.13113,     0.13213,     0.13313,     0.13413,     0.13514,     0.13614,     0.13714,     0.13814,     0.13914,     0.14014,     0.14114,     0.14214,     0.14314,\n",
              "           0.14414,     0.14515,     0.14615,     0.14715,     0.14815,     0.14915,     0.15015,     0.15115,     0.15215,     0.15315,     0.15415,     0.15516,     0.15616,     0.15716,     0.15816,     0.15916,     0.16016,     0.16116,     0.16216,     0.16316,     0.16416,     0.16517,     0.16617,     0.16717,\n",
              "           0.16817,     0.16917,     0.17017,     0.17117,     0.17217,     0.17317,     0.17417,     0.17518,     0.17618,     0.17718,     0.17818,     0.17918,     0.18018,     0.18118,     0.18218,     0.18318,     0.18418,     0.18519,     0.18619,     0.18719,     0.18819,     0.18919,     0.19019,     0.19119,\n",
              "           0.19219,     0.19319,     0.19419,      0.1952,      0.1962,      0.1972,      0.1982,      0.1992,      0.2002,      0.2012,      0.2022,      0.2032,      0.2042,     0.20521,     0.20621,     0.20721,     0.20821,     0.20921,     0.21021,     0.21121,     0.21221,     0.21321,     0.21421,     0.21522,\n",
              "           0.21622,     0.21722,     0.21822,     0.21922,     0.22022,     0.22122,     0.22222,     0.22322,     0.22422,     0.22523,     0.22623,     0.22723,     0.22823,     0.22923,     0.23023,     0.23123,     0.23223,     0.23323,     0.23423,     0.23524,     0.23624,     0.23724,     0.23824,     0.23924,\n",
              "           0.24024,     0.24124,     0.24224,     0.24324,     0.24424,     0.24525,     0.24625,     0.24725,     0.24825,     0.24925,     0.25025,     0.25125,     0.25225,     0.25325,     0.25425,     0.25526,     0.25626,     0.25726,     0.25826,     0.25926,     0.26026,     0.26126,     0.26226,     0.26326,\n",
              "           0.26426,     0.26527,     0.26627,     0.26727,     0.26827,     0.26927,     0.27027,     0.27127,     0.27227,     0.27327,     0.27427,     0.27528,     0.27628,     0.27728,     0.27828,     0.27928,     0.28028,     0.28128,     0.28228,     0.28328,     0.28428,     0.28529,     0.28629,     0.28729,\n",
              "           0.28829,     0.28929,     0.29029,     0.29129,     0.29229,     0.29329,     0.29429,      0.2953,      0.2963,      0.2973,      0.2983,      0.2993,      0.3003,      0.3013,      0.3023,      0.3033,      0.3043,     0.30531,     0.30631,     0.30731,     0.30831,     0.30931,     0.31031,     0.31131,\n",
              "           0.31231,     0.31331,     0.31431,     0.31532,     0.31632,     0.31732,     0.31832,     0.31932,     0.32032,     0.32132,     0.32232,     0.32332,     0.32432,     0.32533,     0.32633,     0.32733,     0.32833,     0.32933,     0.33033,     0.33133,     0.33233,     0.33333,     0.33433,     0.33534,\n",
              "           0.33634,     0.33734,     0.33834,     0.33934,     0.34034,     0.34134,     0.34234,     0.34334,     0.34434,     0.34535,     0.34635,     0.34735,     0.34835,     0.34935,     0.35035,     0.35135,     0.35235,     0.35335,     0.35435,     0.35536,     0.35636,     0.35736,     0.35836,     0.35936,\n",
              "           0.36036,     0.36136,     0.36236,     0.36336,     0.36436,     0.36537,     0.36637,     0.36737,     0.36837,     0.36937,     0.37037,     0.37137,     0.37237,     0.37337,     0.37437,     0.37538,     0.37638,     0.37738,     0.37838,     0.37938,     0.38038,     0.38138,     0.38238,     0.38338,\n",
              "           0.38438,     0.38539,     0.38639,     0.38739,     0.38839,     0.38939,     0.39039,     0.39139,     0.39239,     0.39339,     0.39439,      0.3954,      0.3964,      0.3974,      0.3984,      0.3994,      0.4004,      0.4014,      0.4024,      0.4034,      0.4044,     0.40541,     0.40641,     0.40741,\n",
              "           0.40841,     0.40941,     0.41041,     0.41141,     0.41241,     0.41341,     0.41441,     0.41542,     0.41642,     0.41742,     0.41842,     0.41942,     0.42042,     0.42142,     0.42242,     0.42342,     0.42442,     0.42543,     0.42643,     0.42743,     0.42843,     0.42943,     0.43043,     0.43143,\n",
              "           0.43243,     0.43343,     0.43443,     0.43544,     0.43644,     0.43744,     0.43844,     0.43944,     0.44044,     0.44144,     0.44244,     0.44344,     0.44444,     0.44545,     0.44645,     0.44745,     0.44845,     0.44945,     0.45045,     0.45145,     0.45245,     0.45345,     0.45445,     0.45546,\n",
              "           0.45646,     0.45746,     0.45846,     0.45946,     0.46046,     0.46146,     0.46246,     0.46346,     0.46446,     0.46547,     0.46647,     0.46747,     0.46847,     0.46947,     0.47047,     0.47147,     0.47247,     0.47347,     0.47447,     0.47548,     0.47648,     0.47748,     0.47848,     0.47948,\n",
              "           0.48048,     0.48148,     0.48248,     0.48348,     0.48448,     0.48549,     0.48649,     0.48749,     0.48849,     0.48949,     0.49049,     0.49149,     0.49249,     0.49349,     0.49449,      0.4955,      0.4965,      0.4975,      0.4985,      0.4995,      0.5005,      0.5015,      0.5025,      0.5035,\n",
              "            0.5045,     0.50551,     0.50651,     0.50751,     0.50851,     0.50951,     0.51051,     0.51151,     0.51251,     0.51351,     0.51451,     0.51552,     0.51652,     0.51752,     0.51852,     0.51952,     0.52052,     0.52152,     0.52252,     0.52352,     0.52452,     0.52553,     0.52653,     0.52753,\n",
              "           0.52853,     0.52953,     0.53053,     0.53153,     0.53253,     0.53353,     0.53453,     0.53554,     0.53654,     0.53754,     0.53854,     0.53954,     0.54054,     0.54154,     0.54254,     0.54354,     0.54454,     0.54555,     0.54655,     0.54755,     0.54855,     0.54955,     0.55055,     0.55155,\n",
              "           0.55255,     0.55355,     0.55455,     0.55556,     0.55656,     0.55756,     0.55856,     0.55956,     0.56056,     0.56156,     0.56256,     0.56356,     0.56456,     0.56557,     0.56657,     0.56757,     0.56857,     0.56957,     0.57057,     0.57157,     0.57257,     0.57357,     0.57457,     0.57558,\n",
              "           0.57658,     0.57758,     0.57858,     0.57958,     0.58058,     0.58158,     0.58258,     0.58358,     0.58458,     0.58559,     0.58659,     0.58759,     0.58859,     0.58959,     0.59059,     0.59159,     0.59259,     0.59359,     0.59459,      0.5956,      0.5966,      0.5976,      0.5986,      0.5996,\n",
              "            0.6006,      0.6016,      0.6026,      0.6036,      0.6046,     0.60561,     0.60661,     0.60761,     0.60861,     0.60961,     0.61061,     0.61161,     0.61261,     0.61361,     0.61461,     0.61562,     0.61662,     0.61762,     0.61862,     0.61962,     0.62062,     0.62162,     0.62262,     0.62362,\n",
              "           0.62462,     0.62563,     0.62663,     0.62763,     0.62863,     0.62963,     0.63063,     0.63163,     0.63263,     0.63363,     0.63463,     0.63564,     0.63664,     0.63764,     0.63864,     0.63964,     0.64064,     0.64164,     0.64264,     0.64364,     0.64464,     0.64565,     0.64665,     0.64765,\n",
              "           0.64865,     0.64965,     0.65065,     0.65165,     0.65265,     0.65365,     0.65465,     0.65566,     0.65666,     0.65766,     0.65866,     0.65966,     0.66066,     0.66166,     0.66266,     0.66366,     0.66466,     0.66567,     0.66667,     0.66767,     0.66867,     0.66967,     0.67067,     0.67167,\n",
              "           0.67267,     0.67367,     0.67467,     0.67568,     0.67668,     0.67768,     0.67868,     0.67968,     0.68068,     0.68168,     0.68268,     0.68368,     0.68468,     0.68569,     0.68669,     0.68769,     0.68869,     0.68969,     0.69069,     0.69169,     0.69269,     0.69369,     0.69469,      0.6957,\n",
              "            0.6967,      0.6977,      0.6987,      0.6997,      0.7007,      0.7017,      0.7027,      0.7037,      0.7047,     0.70571,     0.70671,     0.70771,     0.70871,     0.70971,     0.71071,     0.71171,     0.71271,     0.71371,     0.71471,     0.71572,     0.71672,     0.71772,     0.71872,     0.71972,\n",
              "           0.72072,     0.72172,     0.72272,     0.72372,     0.72472,     0.72573,     0.72673,     0.72773,     0.72873,     0.72973,     0.73073,     0.73173,     0.73273,     0.73373,     0.73473,     0.73574,     0.73674,     0.73774,     0.73874,     0.73974,     0.74074,     0.74174,     0.74274,     0.74374,\n",
              "           0.74474,     0.74575,     0.74675,     0.74775,     0.74875,     0.74975,     0.75075,     0.75175,     0.75275,     0.75375,     0.75475,     0.75576,     0.75676,     0.75776,     0.75876,     0.75976,     0.76076,     0.76176,     0.76276,     0.76376,     0.76476,     0.76577,     0.76677,     0.76777,\n",
              "           0.76877,     0.76977,     0.77077,     0.77177,     0.77277,     0.77377,     0.77477,     0.77578,     0.77678,     0.77778,     0.77878,     0.77978,     0.78078,     0.78178,     0.78278,     0.78378,     0.78478,     0.78579,     0.78679,     0.78779,     0.78879,     0.78979,     0.79079,     0.79179,\n",
              "           0.79279,     0.79379,     0.79479,      0.7958,      0.7968,      0.7978,      0.7988,      0.7998,      0.8008,      0.8018,      0.8028,      0.8038,      0.8048,     0.80581,     0.80681,     0.80781,     0.80881,     0.80981,     0.81081,     0.81181,     0.81281,     0.81381,     0.81481,     0.81582,\n",
              "           0.81682,     0.81782,     0.81882,     0.81982,     0.82082,     0.82182,     0.82282,     0.82382,     0.82482,     0.82583,     0.82683,     0.82783,     0.82883,     0.82983,     0.83083,     0.83183,     0.83283,     0.83383,     0.83483,     0.83584,     0.83684,     0.83784,     0.83884,     0.83984,\n",
              "           0.84084,     0.84184,     0.84284,     0.84384,     0.84484,     0.84585,     0.84685,     0.84785,     0.84885,     0.84985,     0.85085,     0.85185,     0.85285,     0.85385,     0.85485,     0.85586,     0.85686,     0.85786,     0.85886,     0.85986,     0.86086,     0.86186,     0.86286,     0.86386,\n",
              "           0.86486,     0.86587,     0.86687,     0.86787,     0.86887,     0.86987,     0.87087,     0.87187,     0.87287,     0.87387,     0.87487,     0.87588,     0.87688,     0.87788,     0.87888,     0.87988,     0.88088,     0.88188,     0.88288,     0.88388,     0.88488,     0.88589,     0.88689,     0.88789,\n",
              "           0.88889,     0.88989,     0.89089,     0.89189,     0.89289,     0.89389,     0.89489,      0.8959,      0.8969,      0.8979,      0.8989,      0.8999,      0.9009,      0.9019,      0.9029,      0.9039,      0.9049,     0.90591,     0.90691,     0.90791,     0.90891,     0.90991,     0.91091,     0.91191,\n",
              "           0.91291,     0.91391,     0.91491,     0.91592,     0.91692,     0.91792,     0.91892,     0.91992,     0.92092,     0.92192,     0.92292,     0.92392,     0.92492,     0.92593,     0.92693,     0.92793,     0.92893,     0.92993,     0.93093,     0.93193,     0.93293,     0.93393,     0.93493,     0.93594,\n",
              "           0.93694,     0.93794,     0.93894,     0.93994,     0.94094,     0.94194,     0.94294,     0.94394,     0.94494,     0.94595,     0.94695,     0.94795,     0.94895,     0.94995,     0.95095,     0.95195,     0.95295,     0.95395,     0.95495,     0.95596,     0.95696,     0.95796,     0.95896,     0.95996,\n",
              "           0.96096,     0.96196,     0.96296,     0.96396,     0.96496,     0.96597,     0.96697,     0.96797,     0.96897,     0.96997,     0.97097,     0.97197,     0.97297,     0.97397,     0.97497,     0.97598,     0.97698,     0.97798,     0.97898,     0.97998,     0.98098,     0.98198,     0.98298,     0.98398,\n",
              "           0.98498,     0.98599,     0.98699,     0.98799,     0.98899,     0.98999,     0.99099,     0.99199,     0.99299,     0.99399,     0.99499,       0.996,       0.997,       0.998,       0.999,           1]), array([[    0.12867,     0.12867,     0.20523,      0.2548,     0.29233,     0.32161,     0.34678,     0.36747,     0.38571,     0.40302,     0.41753,     0.42944,     0.44154,     0.45321,     0.46272,     0.47124,     0.47959,     0.48837,     0.49491,     0.50247,     0.50883,     0.51636,     0.52257,\n",
              "            0.52891,     0.53338,     0.53977,     0.54414,     0.55053,     0.55518,     0.55964,     0.56618,      0.5715,     0.57482,     0.57905,      0.5836,     0.58684,     0.58993,     0.59374,     0.59708,     0.59891,     0.60246,     0.60461,     0.60738,     0.60965,      0.6134,     0.61475,\n",
              "            0.61724,     0.61979,     0.62226,     0.62449,     0.62713,     0.62993,     0.63324,     0.63563,     0.63893,     0.64136,     0.64365,     0.64558,     0.64785,     0.64998,     0.65194,     0.65398,     0.65586,     0.65655,     0.65825,     0.65986,     0.66137,     0.66352,     0.66436,\n",
              "            0.66622,     0.66868,     0.67067,     0.67106,     0.67169,     0.67215,     0.67419,     0.67546,     0.67801,     0.68003,     0.68254,     0.68371,     0.68456,     0.68593,     0.68805,     0.68928,     0.68973,     0.69079,     0.69117,     0.69174,     0.69153,     0.69282,     0.69429,\n",
              "            0.69568,     0.69782,      0.6984,     0.69994,     0.70045,       0.702,     0.70314,     0.70388,     0.70538,     0.70642,     0.70737,     0.70841,     0.70969,     0.71046,     0.71143,      0.7126,     0.71334,      0.7141,     0.71543,     0.71628,      0.7172,     0.71865,     0.71922,\n",
              "            0.71925,     0.71976,     0.72006,     0.72009,     0.72099,     0.72118,     0.72226,     0.72278,     0.72333,     0.72457,      0.7247,     0.72504,     0.72523,     0.72633,     0.72695,     0.72713,     0.72863,     0.72916,     0.72982,     0.73053,     0.73071,      0.7319,     0.73246,\n",
              "            0.73318,       0.734,     0.73524,     0.73606,     0.73639,     0.73657,     0.73588,     0.73736,     0.73779,     0.73794,     0.73813,     0.73821,     0.73825,     0.73912,     0.73983,      0.7403,     0.74102,     0.74175,     0.74215,     0.74296,     0.74388,     0.74446,     0.74507,\n",
              "             0.7455,     0.74578,     0.74639,     0.74664,     0.74686,     0.74727,     0.74747,     0.74669,     0.74711,     0.74683,     0.74666,     0.74565,     0.74547,     0.74632,     0.74702,     0.74762,      0.7481,     0.74873,     0.74931,     0.74975,     0.75105,     0.75118,     0.75241,\n",
              "             0.7529,     0.75319,     0.75366,     0.75471,     0.75532,     0.75615,      0.7571,     0.75744,      0.7581,     0.75858,     0.75901,     0.75962,     0.76063,     0.76083,     0.76142,     0.76162,      0.7615,     0.76171,     0.76174,     0.76209,     0.76279,     0.76303,     0.76283,\n",
              "             0.7632,     0.76384,     0.76345,     0.76342,     0.76366,     0.76378,     0.76402,     0.76401,     0.76446,     0.76466,     0.76505,     0.76518,     0.76512,     0.76534,     0.76606,     0.76652,     0.76687,     0.76706,     0.76722,     0.76755,     0.76726,     0.76758,     0.76783,\n",
              "            0.76802,     0.76813,     0.76854,     0.76891,     0.76951,     0.76931,     0.76951,     0.76983,     0.77027,      0.7712,     0.77095,     0.77066,      0.7707,     0.77081,     0.77092,     0.77121,     0.77137,     0.77132,      0.7717,     0.77222,     0.77276,     0.77309,     0.77359,\n",
              "            0.77377,     0.77509,      0.7759,     0.77579,     0.77569,     0.77558,     0.77576,     0.77634,     0.77702,     0.77661,     0.77607,     0.77552,     0.77569,     0.77586,     0.77556,     0.77579,     0.77631,     0.77622,      0.7766,     0.77677,     0.77645,     0.77623,     0.77696,\n",
              "             0.7772,     0.77719,      0.7769,     0.77612,      0.7759,     0.77595,     0.77598,     0.77553,     0.77559,     0.77569,     0.77595,     0.77546,     0.77484,     0.77453,     0.77504,     0.77539,     0.77576,     0.77578,     0.77595,     0.77627,     0.77636,     0.77753,     0.77806,\n",
              "            0.77841,     0.77819,     0.77873,     0.77968,     0.77946,     0.78005,     0.78049,     0.78067,     0.78085,     0.78064,     0.78093,      0.7817,     0.78185,      0.7817,     0.78094,     0.78109,     0.78132,     0.78118,     0.78113,     0.78141,     0.78183,     0.78162,     0.78193,\n",
              "            0.78264,     0.78275,     0.78241,     0.78217,     0.78213,     0.78231,     0.78144,     0.78143,      0.7817,     0.78144,     0.78119,     0.78135,     0.78109,     0.78124,      0.7815,     0.78113,     0.78176,     0.78159,     0.78186,     0.78203,     0.78204,     0.78235,     0.78249,\n",
              "            0.78224,     0.78146,     0.78164,     0.78194,     0.78221,     0.78299,     0.78319,      0.7828,     0.78295,     0.78249,     0.78253,     0.78263,     0.78273,     0.78263,     0.78247,     0.78274,     0.78314,     0.78289,     0.78305,     0.78244,     0.78245,     0.78212,      0.7816,\n",
              "            0.78209,     0.78236,     0.78248,     0.78233,      0.7823,     0.78188,     0.78181,     0.78209,     0.78237,     0.78207,     0.78217,     0.78231,     0.78207,     0.78181,     0.78209,     0.78237,     0.78373,     0.78369,     0.78351,     0.78364,     0.78377,     0.78348,     0.78336,\n",
              "            0.78313,     0.78339,     0.78327,     0.78316,     0.78304,     0.78276,     0.78262,     0.78247,     0.78176,     0.78126,     0.78118,     0.78174,     0.78188,     0.78242,     0.78236,     0.78224,     0.78212,     0.78198,     0.78176,     0.78106,     0.77981,     0.78009,     0.78065,\n",
              "            0.78116,     0.78132,     0.78124,     0.78102,      0.7808,     0.78058,     0.78019,     0.78017,     0.78027,     0.77976,     0.77954,      0.7789,     0.77875,      0.7786,     0.77839,     0.77823,     0.77812,     0.77789,     0.77816,     0.77712,     0.77645,     0.77661,     0.77633,\n",
              "            0.77647,     0.77671,     0.77555,     0.77564,     0.77574,      0.7754,       0.775,     0.77514,     0.77477,     0.77389,     0.77364,     0.77342,     0.77366,     0.77336,     0.77313,     0.77317,     0.77256,     0.77209,     0.77205,     0.77219,     0.77191,     0.77146,     0.77136,\n",
              "            0.77127,     0.77082,     0.76989,     0.76884,     0.76851,      0.7679,     0.76774,     0.76781,     0.76646,     0.76636,     0.76649,     0.76656,     0.76663,      0.7667,     0.76635,     0.76612,     0.76635,     0.76461,     0.76436,     0.76413,     0.76423,     0.76286,      0.7624,\n",
              "              0.762,      0.7622,     0.76128,     0.76086,     0.76062,     0.75989,     0.75948,     0.75924,     0.75943,     0.75904,     0.75937,     0.75894,     0.75847,       0.758,     0.75781,     0.75625,     0.75486,     0.75438,     0.75373,     0.75339,     0.75315,     0.75276,     0.75296,\n",
              "             0.7531,     0.75311,     0.75245,     0.75226,     0.75132,     0.75062,     0.75046,      0.7503,     0.74941,     0.74893,     0.74846,     0.74751,     0.74703,     0.74655,     0.74711,      0.7472,      0.7473,     0.74641,     0.74501,     0.74477,     0.74461,     0.74429,     0.74339,\n",
              "            0.74314,     0.74257,     0.74197,     0.74129,     0.74061,     0.74062,     0.74077,     0.74066,     0.74017,     0.73873,     0.73776,     0.73766,     0.73795,     0.73733,     0.73588,     0.73519,     0.73546,     0.73504,     0.73359,     0.73164,     0.73046,     0.73014,     0.72989,\n",
              "            0.72947,     0.72961,     0.72922,     0.72872,     0.72843,     0.72794,     0.72753,     0.72655,     0.72595,     0.72512,     0.72363,     0.72313,     0.72164,     0.72114,     0.72014,     0.71913,     0.71863,      0.7174,     0.71749,     0.71716,     0.71665,     0.71514,     0.71413,\n",
              "            0.71362,     0.71382,     0.71337,     0.71286,     0.71134,     0.71039,     0.71067,     0.70891,     0.70784,     0.70765,     0.70662,     0.70587,     0.70484,     0.70381,     0.70277,     0.70225,     0.70121,     0.69966,     0.69708,       0.695,     0.69447,     0.69292,     0.69187,\n",
              "            0.69081,     0.68976,     0.68911,     0.68884,     0.68843,       0.687,     0.68673,     0.68657,     0.68562,     0.68417,     0.68205,     0.68125,     0.67961,      0.6792,     0.67893,     0.67884,     0.67829,     0.67774,     0.67644,     0.67585,     0.67557,     0.67315,      0.6718,\n",
              "            0.67124,     0.67069,     0.66886,      0.6679,     0.66741,     0.66521,     0.66247,     0.66081,     0.66113,     0.66078,     0.65966,     0.65826,     0.65714,     0.65658,     0.65601,     0.65571,     0.65461,     0.65345,     0.65231,     0.65088,     0.64806,     0.64749,     0.64686,\n",
              "            0.64632,     0.64574,      0.6429,     0.64202,     0.63976,     0.63798,     0.63625,     0.63478,     0.63246,     0.63167,     0.63041,     0.62866,     0.62574,     0.62365,     0.61918,     0.61798,     0.61679,     0.61645,     0.61554,     0.61196,     0.61079,     0.61048,     0.60943,\n",
              "            0.60708,     0.60552,     0.60491,     0.60244,     0.59878,     0.59847,      0.5954,     0.59406,     0.59282,     0.59219,     0.58737,     0.58405,     0.58418,     0.58049,     0.57608,     0.57543,     0.57245,     0.57154,     0.56855,     0.56823,     0.56416,     0.56175,     0.56193,\n",
              "            0.55785,     0.55752,     0.55255,     0.54876,     0.54809,     0.54445,     0.54462,     0.54119,      0.5371,     0.53686,     0.53274,     0.52711,     0.52637,     0.52198,     0.52128,     0.52004,     0.51565,     0.51482,      0.5086,     0.50825,     0.50571,     0.50402,     0.50418,\n",
              "            0.50035,     0.49915,     0.49297,     0.48875,     0.48796,     0.48315,     0.47964,      0.4789,     0.47095,     0.46654,     0.46603,      0.4639,     0.45681,     0.45592,     0.45208,     0.44555,     0.44517,     0.44116,     0.44063,     0.43492,     0.42827,     0.42841,     0.42228,\n",
              "            0.41519,     0.41533,     0.40764,     0.40081,     0.39878,     0.39791,     0.39023,     0.38857,     0.38173,     0.37703,     0.37646,     0.37215,     0.36716,     0.36659,     0.35756,     0.35357,     0.35298,     0.34467,     0.34105,     0.34023,     0.33585,     0.33261,      0.3269,\n",
              "             0.3263,     0.32215,     0.31619,     0.31483,     0.31293,     0.30822,     0.30489,     0.30427,     0.29934,     0.28921,      0.2875,     0.28688,     0.27713,     0.27074,     0.26944,     0.26309,     0.25842,     0.25776,     0.25295,     0.24646,     0.24528,     0.23954,     0.23887,\n",
              "             0.2321,     0.22691,     0.22089,      0.2202,     0.21761,     0.21322,      0.2087,     0.20801,     0.20344,      0.2014,     0.20069,     0.19999,     0.19397,     0.19376,     0.19234,     0.18946,     0.18874,     0.18716,     0.18664,     0.18652,     0.18609,     0.18354,     0.18282,\n",
              "            0.17909,     0.17682,     0.17391,     0.17077,     0.17005,     0.16502,     0.16311,     0.16267,     0.15949,     0.15552,      0.1529,     0.15167,     0.14873,     0.14672,     0.14231,     0.13603,     0.13557,     0.13507,     0.13287,     0.13211,     0.12928,     0.12663,     0.12463,\n",
              "            0.12354,     0.12249,     0.12192,      0.1209,     0.11975,     0.11747,     0.11631,     0.11516,     0.11343,     0.11227,     0.11147,     0.11108,     0.11069,     0.10989,     0.10873,     0.10642,      0.1034,     0.10204,     0.10135,     0.10111,     0.10088,     0.10064,     0.10041,\n",
              "           0.099902,    0.098971,    0.098578,    0.098185,    0.097792,    0.097399,    0.097006,    0.096577,    0.096104,    0.095592,    0.094068,    0.093292,      0.0927,    0.092107,    0.091514,    0.090993,    0.090835,    0.090676,    0.090518,    0.090359,    0.090201,    0.090043,    0.089884,\n",
              "           0.088849,    0.088439,    0.088142,    0.087844,    0.087546,    0.087152,    0.086754,    0.086338,    0.085542,    0.085036,    0.084737,    0.084438,    0.084139,    0.081592,    0.080992,    0.080392,    0.079792,    0.079249,    0.078848,    0.078447,     0.07814,    0.077999,    0.077857,\n",
              "           0.077716,    0.077574,    0.077432,    0.077291,    0.077149,     0.07567,    0.072189,    0.070977,    0.069822,    0.069013,    0.066286,    0.065798,    0.065311,    0.062591,    0.061775,    0.061369,    0.061062,    0.060756,     0.06045,    0.059683,    0.057488,    0.055689,    0.052618,\n",
              "           0.051697,    0.051078,    0.046998,    0.044701,    0.044202,    0.043704,    0.042041,    0.041625,    0.041208,    0.040183,     0.03818,    0.037553,    0.036758,     0.03592,    0.035082,    0.034427,    0.033797,    0.032287,    0.032035,    0.031782,     0.03153,    0.031169,    0.029349,\n",
              "            0.02729,    0.026783,    0.025981,    0.024274,    0.022133,    0.021023,    0.020513,    0.019797,    0.018519,    0.014331,    0.011758,    0.010939,    0.010423,   0.0099868,   0.0096642,   0.0093414,   0.0090186,   0.0086406,   0.0082098,   0.0077789,   0.0063144,   0.0060789,   0.0058433,\n",
              "          0.0056077,   0.0053721,   0.0051364,   0.0044408,   0.0037078,   0.0033368,   0.0029656,   0.0025943,   0.0022228,   0.0018512,   0.0014795,           0,           0,           0,           0,           0,           0,           0,           0,           0,           0,           0,           0,\n",
              "                  0,           0,           0,           0,           0,           0,           0,           0,           0,           0,           0]]), 'Confidence', 'F1'], [array([          0,    0.001001,    0.002002,    0.003003,    0.004004,    0.005005,    0.006006,    0.007007,    0.008008,    0.009009,     0.01001,    0.011011,    0.012012,    0.013013,    0.014014,    0.015015,    0.016016,    0.017017,    0.018018,    0.019019,     0.02002,    0.021021,    0.022022,    0.023023,\n",
              "          0.024024,    0.025025,    0.026026,    0.027027,    0.028028,    0.029029,     0.03003,    0.031031,    0.032032,    0.033033,    0.034034,    0.035035,    0.036036,    0.037037,    0.038038,    0.039039,     0.04004,    0.041041,    0.042042,    0.043043,    0.044044,    0.045045,    0.046046,    0.047047,\n",
              "          0.048048,    0.049049,     0.05005,    0.051051,    0.052052,    0.053053,    0.054054,    0.055055,    0.056056,    0.057057,    0.058058,    0.059059,     0.06006,    0.061061,    0.062062,    0.063063,    0.064064,    0.065065,    0.066066,    0.067067,    0.068068,    0.069069,     0.07007,    0.071071,\n",
              "          0.072072,    0.073073,    0.074074,    0.075075,    0.076076,    0.077077,    0.078078,    0.079079,     0.08008,    0.081081,    0.082082,    0.083083,    0.084084,    0.085085,    0.086086,    0.087087,    0.088088,    0.089089,     0.09009,    0.091091,    0.092092,    0.093093,    0.094094,    0.095095,\n",
              "          0.096096,    0.097097,    0.098098,    0.099099,      0.1001,      0.1011,      0.1021,      0.1031,      0.1041,     0.10511,     0.10611,     0.10711,     0.10811,     0.10911,     0.11011,     0.11111,     0.11211,     0.11311,     0.11411,     0.11512,     0.11612,     0.11712,     0.11812,     0.11912,\n",
              "           0.12012,     0.12112,     0.12212,     0.12312,     0.12412,     0.12513,     0.12613,     0.12713,     0.12813,     0.12913,     0.13013,     0.13113,     0.13213,     0.13313,     0.13413,     0.13514,     0.13614,     0.13714,     0.13814,     0.13914,     0.14014,     0.14114,     0.14214,     0.14314,\n",
              "           0.14414,     0.14515,     0.14615,     0.14715,     0.14815,     0.14915,     0.15015,     0.15115,     0.15215,     0.15315,     0.15415,     0.15516,     0.15616,     0.15716,     0.15816,     0.15916,     0.16016,     0.16116,     0.16216,     0.16316,     0.16416,     0.16517,     0.16617,     0.16717,\n",
              "           0.16817,     0.16917,     0.17017,     0.17117,     0.17217,     0.17317,     0.17417,     0.17518,     0.17618,     0.17718,     0.17818,     0.17918,     0.18018,     0.18118,     0.18218,     0.18318,     0.18418,     0.18519,     0.18619,     0.18719,     0.18819,     0.18919,     0.19019,     0.19119,\n",
              "           0.19219,     0.19319,     0.19419,      0.1952,      0.1962,      0.1972,      0.1982,      0.1992,      0.2002,      0.2012,      0.2022,      0.2032,      0.2042,     0.20521,     0.20621,     0.20721,     0.20821,     0.20921,     0.21021,     0.21121,     0.21221,     0.21321,     0.21421,     0.21522,\n",
              "           0.21622,     0.21722,     0.21822,     0.21922,     0.22022,     0.22122,     0.22222,     0.22322,     0.22422,     0.22523,     0.22623,     0.22723,     0.22823,     0.22923,     0.23023,     0.23123,     0.23223,     0.23323,     0.23423,     0.23524,     0.23624,     0.23724,     0.23824,     0.23924,\n",
              "           0.24024,     0.24124,     0.24224,     0.24324,     0.24424,     0.24525,     0.24625,     0.24725,     0.24825,     0.24925,     0.25025,     0.25125,     0.25225,     0.25325,     0.25425,     0.25526,     0.25626,     0.25726,     0.25826,     0.25926,     0.26026,     0.26126,     0.26226,     0.26326,\n",
              "           0.26426,     0.26527,     0.26627,     0.26727,     0.26827,     0.26927,     0.27027,     0.27127,     0.27227,     0.27327,     0.27427,     0.27528,     0.27628,     0.27728,     0.27828,     0.27928,     0.28028,     0.28128,     0.28228,     0.28328,     0.28428,     0.28529,     0.28629,     0.28729,\n",
              "           0.28829,     0.28929,     0.29029,     0.29129,     0.29229,     0.29329,     0.29429,      0.2953,      0.2963,      0.2973,      0.2983,      0.2993,      0.3003,      0.3013,      0.3023,      0.3033,      0.3043,     0.30531,     0.30631,     0.30731,     0.30831,     0.30931,     0.31031,     0.31131,\n",
              "           0.31231,     0.31331,     0.31431,     0.31532,     0.31632,     0.31732,     0.31832,     0.31932,     0.32032,     0.32132,     0.32232,     0.32332,     0.32432,     0.32533,     0.32633,     0.32733,     0.32833,     0.32933,     0.33033,     0.33133,     0.33233,     0.33333,     0.33433,     0.33534,\n",
              "           0.33634,     0.33734,     0.33834,     0.33934,     0.34034,     0.34134,     0.34234,     0.34334,     0.34434,     0.34535,     0.34635,     0.34735,     0.34835,     0.34935,     0.35035,     0.35135,     0.35235,     0.35335,     0.35435,     0.35536,     0.35636,     0.35736,     0.35836,     0.35936,\n",
              "           0.36036,     0.36136,     0.36236,     0.36336,     0.36436,     0.36537,     0.36637,     0.36737,     0.36837,     0.36937,     0.37037,     0.37137,     0.37237,     0.37337,     0.37437,     0.37538,     0.37638,     0.37738,     0.37838,     0.37938,     0.38038,     0.38138,     0.38238,     0.38338,\n",
              "           0.38438,     0.38539,     0.38639,     0.38739,     0.38839,     0.38939,     0.39039,     0.39139,     0.39239,     0.39339,     0.39439,      0.3954,      0.3964,      0.3974,      0.3984,      0.3994,      0.4004,      0.4014,      0.4024,      0.4034,      0.4044,     0.40541,     0.40641,     0.40741,\n",
              "           0.40841,     0.40941,     0.41041,     0.41141,     0.41241,     0.41341,     0.41441,     0.41542,     0.41642,     0.41742,     0.41842,     0.41942,     0.42042,     0.42142,     0.42242,     0.42342,     0.42442,     0.42543,     0.42643,     0.42743,     0.42843,     0.42943,     0.43043,     0.43143,\n",
              "           0.43243,     0.43343,     0.43443,     0.43544,     0.43644,     0.43744,     0.43844,     0.43944,     0.44044,     0.44144,     0.44244,     0.44344,     0.44444,     0.44545,     0.44645,     0.44745,     0.44845,     0.44945,     0.45045,     0.45145,     0.45245,     0.45345,     0.45445,     0.45546,\n",
              "           0.45646,     0.45746,     0.45846,     0.45946,     0.46046,     0.46146,     0.46246,     0.46346,     0.46446,     0.46547,     0.46647,     0.46747,     0.46847,     0.46947,     0.47047,     0.47147,     0.47247,     0.47347,     0.47447,     0.47548,     0.47648,     0.47748,     0.47848,     0.47948,\n",
              "           0.48048,     0.48148,     0.48248,     0.48348,     0.48448,     0.48549,     0.48649,     0.48749,     0.48849,     0.48949,     0.49049,     0.49149,     0.49249,     0.49349,     0.49449,      0.4955,      0.4965,      0.4975,      0.4985,      0.4995,      0.5005,      0.5015,      0.5025,      0.5035,\n",
              "            0.5045,     0.50551,     0.50651,     0.50751,     0.50851,     0.50951,     0.51051,     0.51151,     0.51251,     0.51351,     0.51451,     0.51552,     0.51652,     0.51752,     0.51852,     0.51952,     0.52052,     0.52152,     0.52252,     0.52352,     0.52452,     0.52553,     0.52653,     0.52753,\n",
              "           0.52853,     0.52953,     0.53053,     0.53153,     0.53253,     0.53353,     0.53453,     0.53554,     0.53654,     0.53754,     0.53854,     0.53954,     0.54054,     0.54154,     0.54254,     0.54354,     0.54454,     0.54555,     0.54655,     0.54755,     0.54855,     0.54955,     0.55055,     0.55155,\n",
              "           0.55255,     0.55355,     0.55455,     0.55556,     0.55656,     0.55756,     0.55856,     0.55956,     0.56056,     0.56156,     0.56256,     0.56356,     0.56456,     0.56557,     0.56657,     0.56757,     0.56857,     0.56957,     0.57057,     0.57157,     0.57257,     0.57357,     0.57457,     0.57558,\n",
              "           0.57658,     0.57758,     0.57858,     0.57958,     0.58058,     0.58158,     0.58258,     0.58358,     0.58458,     0.58559,     0.58659,     0.58759,     0.58859,     0.58959,     0.59059,     0.59159,     0.59259,     0.59359,     0.59459,      0.5956,      0.5966,      0.5976,      0.5986,      0.5996,\n",
              "            0.6006,      0.6016,      0.6026,      0.6036,      0.6046,     0.60561,     0.60661,     0.60761,     0.60861,     0.60961,     0.61061,     0.61161,     0.61261,     0.61361,     0.61461,     0.61562,     0.61662,     0.61762,     0.61862,     0.61962,     0.62062,     0.62162,     0.62262,     0.62362,\n",
              "           0.62462,     0.62563,     0.62663,     0.62763,     0.62863,     0.62963,     0.63063,     0.63163,     0.63263,     0.63363,     0.63463,     0.63564,     0.63664,     0.63764,     0.63864,     0.63964,     0.64064,     0.64164,     0.64264,     0.64364,     0.64464,     0.64565,     0.64665,     0.64765,\n",
              "           0.64865,     0.64965,     0.65065,     0.65165,     0.65265,     0.65365,     0.65465,     0.65566,     0.65666,     0.65766,     0.65866,     0.65966,     0.66066,     0.66166,     0.66266,     0.66366,     0.66466,     0.66567,     0.66667,     0.66767,     0.66867,     0.66967,     0.67067,     0.67167,\n",
              "           0.67267,     0.67367,     0.67467,     0.67568,     0.67668,     0.67768,     0.67868,     0.67968,     0.68068,     0.68168,     0.68268,     0.68368,     0.68468,     0.68569,     0.68669,     0.68769,     0.68869,     0.68969,     0.69069,     0.69169,     0.69269,     0.69369,     0.69469,      0.6957,\n",
              "            0.6967,      0.6977,      0.6987,      0.6997,      0.7007,      0.7017,      0.7027,      0.7037,      0.7047,     0.70571,     0.70671,     0.70771,     0.70871,     0.70971,     0.71071,     0.71171,     0.71271,     0.71371,     0.71471,     0.71572,     0.71672,     0.71772,     0.71872,     0.71972,\n",
              "           0.72072,     0.72172,     0.72272,     0.72372,     0.72472,     0.72573,     0.72673,     0.72773,     0.72873,     0.72973,     0.73073,     0.73173,     0.73273,     0.73373,     0.73473,     0.73574,     0.73674,     0.73774,     0.73874,     0.73974,     0.74074,     0.74174,     0.74274,     0.74374,\n",
              "           0.74474,     0.74575,     0.74675,     0.74775,     0.74875,     0.74975,     0.75075,     0.75175,     0.75275,     0.75375,     0.75475,     0.75576,     0.75676,     0.75776,     0.75876,     0.75976,     0.76076,     0.76176,     0.76276,     0.76376,     0.76476,     0.76577,     0.76677,     0.76777,\n",
              "           0.76877,     0.76977,     0.77077,     0.77177,     0.77277,     0.77377,     0.77477,     0.77578,     0.77678,     0.77778,     0.77878,     0.77978,     0.78078,     0.78178,     0.78278,     0.78378,     0.78478,     0.78579,     0.78679,     0.78779,     0.78879,     0.78979,     0.79079,     0.79179,\n",
              "           0.79279,     0.79379,     0.79479,      0.7958,      0.7968,      0.7978,      0.7988,      0.7998,      0.8008,      0.8018,      0.8028,      0.8038,      0.8048,     0.80581,     0.80681,     0.80781,     0.80881,     0.80981,     0.81081,     0.81181,     0.81281,     0.81381,     0.81481,     0.81582,\n",
              "           0.81682,     0.81782,     0.81882,     0.81982,     0.82082,     0.82182,     0.82282,     0.82382,     0.82482,     0.82583,     0.82683,     0.82783,     0.82883,     0.82983,     0.83083,     0.83183,     0.83283,     0.83383,     0.83483,     0.83584,     0.83684,     0.83784,     0.83884,     0.83984,\n",
              "           0.84084,     0.84184,     0.84284,     0.84384,     0.84484,     0.84585,     0.84685,     0.84785,     0.84885,     0.84985,     0.85085,     0.85185,     0.85285,     0.85385,     0.85485,     0.85586,     0.85686,     0.85786,     0.85886,     0.85986,     0.86086,     0.86186,     0.86286,     0.86386,\n",
              "           0.86486,     0.86587,     0.86687,     0.86787,     0.86887,     0.86987,     0.87087,     0.87187,     0.87287,     0.87387,     0.87487,     0.87588,     0.87688,     0.87788,     0.87888,     0.87988,     0.88088,     0.88188,     0.88288,     0.88388,     0.88488,     0.88589,     0.88689,     0.88789,\n",
              "           0.88889,     0.88989,     0.89089,     0.89189,     0.89289,     0.89389,     0.89489,      0.8959,      0.8969,      0.8979,      0.8989,      0.8999,      0.9009,      0.9019,      0.9029,      0.9039,      0.9049,     0.90591,     0.90691,     0.90791,     0.90891,     0.90991,     0.91091,     0.91191,\n",
              "           0.91291,     0.91391,     0.91491,     0.91592,     0.91692,     0.91792,     0.91892,     0.91992,     0.92092,     0.92192,     0.92292,     0.92392,     0.92492,     0.92593,     0.92693,     0.92793,     0.92893,     0.92993,     0.93093,     0.93193,     0.93293,     0.93393,     0.93493,     0.93594,\n",
              "           0.93694,     0.93794,     0.93894,     0.93994,     0.94094,     0.94194,     0.94294,     0.94394,     0.94494,     0.94595,     0.94695,     0.94795,     0.94895,     0.94995,     0.95095,     0.95195,     0.95295,     0.95395,     0.95495,     0.95596,     0.95696,     0.95796,     0.95896,     0.95996,\n",
              "           0.96096,     0.96196,     0.96296,     0.96396,     0.96496,     0.96597,     0.96697,     0.96797,     0.96897,     0.96997,     0.97097,     0.97197,     0.97297,     0.97397,     0.97497,     0.97598,     0.97698,     0.97798,     0.97898,     0.97998,     0.98098,     0.98198,     0.98298,     0.98398,\n",
              "           0.98498,     0.98599,     0.98699,     0.98799,     0.98899,     0.98999,     0.99099,     0.99199,     0.99299,     0.99399,     0.99499,       0.996,       0.997,       0.998,       0.999,           1]), array([[    0.06916,     0.06916,     0.11556,     0.14825,      0.1744,     0.19577,     0.21483,      0.2311,     0.24582,     0.26005,     0.27245,     0.28286,     0.29353,       0.304,      0.3127,     0.32071,     0.32884,     0.33742,      0.3439,     0.35174,     0.35801,     0.36552,     0.37185,\n",
              "            0.37845,     0.38317,      0.3898,      0.3945,     0.40126,     0.40622,     0.41101,      0.4181,      0.4244,     0.42836,     0.43338,     0.43849,     0.44233,     0.44602,     0.45073,     0.45477,     0.45725,      0.4614,     0.46447,     0.46811,     0.47103,     0.47569,     0.47751,\n",
              "            0.48073,     0.48402,     0.48725,      0.4904,     0.49388,     0.49757,     0.50171,     0.50472,     0.50912,     0.51221,     0.51514,     0.51784,     0.52101,       0.524,     0.52656,     0.52947,     0.53268,     0.53409,     0.53634,     0.53848,     0.54076,     0.54415,     0.54581,\n",
              "            0.54912,     0.55247,     0.55549,     0.55682,     0.55801,     0.55945,     0.56229,     0.56406,     0.56762,     0.57046,       0.574,     0.57566,      0.5772,     0.57941,     0.58244,      0.5842,     0.58486,     0.58638,     0.58723,     0.58868,     0.58932,      0.5912,     0.59335,\n",
              "            0.59538,     0.59852,     0.59971,     0.60197,     0.60322,     0.60571,     0.60808,     0.60918,     0.61143,     0.61334,     0.61513,     0.61704,     0.61899,     0.62051,     0.62265,     0.62486,     0.62637,     0.62791,     0.63033,      0.6318,     0.63385,      0.6361,     0.63748,\n",
              "            0.63781,       0.639,     0.64022,     0.64143,     0.64287,     0.64395,     0.64567,      0.6469,     0.64819,     0.65018,     0.65081,     0.65214,     0.65286,     0.65464,     0.65585,     0.65664,     0.65922,     0.66051,     0.66177,     0.66318,     0.66433,     0.66631,     0.66723,\n",
              "            0.66842,      0.6698,     0.67229,     0.67411,     0.67509,     0.67625,     0.67645,     0.67898,     0.67971,     0.67996,     0.68028,     0.68095,     0.68184,     0.68333,       0.685,     0.68627,     0.68799,     0.68924,     0.68992,     0.69133,     0.69292,     0.69394,     0.69546,\n",
              "            0.69622,      0.6967,     0.69778,     0.69869,     0.69908,     0.69979,     0.70014,      0.7001,     0.70175,     0.70162,     0.70154,     0.70139,     0.70152,     0.70303,     0.70426,     0.70584,      0.7072,     0.70884,     0.70986,     0.71117,     0.71351,     0.71375,     0.71598,\n",
              "            0.71687,     0.71739,     0.71876,     0.72068,     0.72179,     0.72331,     0.72558,     0.72621,     0.72743,     0.72831,      0.7291,     0.73077,     0.73265,     0.73338,     0.73466,     0.73502,     0.73535,     0.73577,     0.73636,     0.73764,     0.73943,     0.73988,     0.74001,\n",
              "            0.74076,     0.74254,      0.7427,     0.74345,     0.74391,     0.74414,      0.7446,     0.74515,     0.74658,     0.74753,     0.74828,     0.74873,       0.749,        0.75,      0.7514,     0.75228,     0.75296,     0.75391,     0.75422,     0.75552,     0.75541,     0.75612,     0.75659,\n",
              "            0.75696,     0.75718,     0.75853,     0.75991,     0.76108,     0.76262,     0.76385,     0.76478,     0.76565,       0.768,     0.76829,     0.76819,       0.769,     0.76922,     0.76944,        0.77,     0.77034,     0.77081,     0.77162,     0.77266,     0.77375,     0.77442,     0.77541,\n",
              "            0.77577,     0.77844,     0.78018,     0.78014,      0.7801,     0.78007,     0.78108,     0.78228,     0.78432,     0.78418,     0.78398,     0.78455,     0.78557,     0.78592,     0.78591,     0.78779,     0.78887,     0.78914,     0.79014,      0.7905,      0.7912,     0.79131,     0.79294,\n",
              "            0.79383,     0.79413,     0.79416,     0.79536,     0.79561,      0.7964,     0.79789,     0.79835,     0.79919,     0.79941,     0.80011,     0.79994,     0.80019,     0.80053,     0.80164,     0.80238,     0.80372,     0.80394,     0.80431,     0.80499,     0.80592,     0.80846,      0.8096,\n",
              "            0.81035,     0.81061,      0.8118,     0.81386,      0.8149,     0.81618,     0.81716,     0.81755,     0.81793,     0.81824,     0.81887,     0.82057,     0.82091,     0.82092,     0.82121,     0.82154,     0.82205,     0.82225,     0.82319,      0.8238,     0.82473,     0.82506,     0.82575,\n",
              "            0.82733,     0.82757,     0.82765,     0.82758,     0.82778,     0.82864,     0.82838,     0.82859,        0.83,     0.83044,     0.83046,      0.8308,     0.83103,     0.83138,     0.83196,     0.83356,     0.83523,     0.83543,     0.83605,     0.83727,     0.83796,     0.83968,     0.83999,\n",
              "            0.84026,     0.84048,     0.84138,     0.84208,     0.84271,     0.84538,     0.84587,     0.84578,     0.84614,     0.84623,     0.84687,      0.8471,     0.84734,     0.84793,     0.84844,     0.84909,     0.85003,     0.85034,     0.85071,     0.85068,     0.85104,     0.85172,     0.85158,\n",
              "            0.85283,     0.85348,      0.8541,     0.85405,     0.85422,     0.85451,     0.85484,      0.8555,     0.85617,     0.85629,     0.85659,     0.85692,     0.85686,     0.85754,     0.85821,     0.85888,     0.86217,     0.86254,     0.86348,     0.86472,     0.86596,     0.86711,     0.86724,\n",
              "             0.8672,     0.86785,     0.86782,     0.86779,     0.86777,     0.86831,     0.86827,     0.86824,     0.86807,     0.86794,     0.86901,     0.87137,     0.87172,     0.87304,     0.87312,     0.87309,     0.87306,     0.87303,     0.87298,     0.87282,     0.87332,     0.87403,     0.87543,\n",
              "            0.87673,     0.87713,     0.87724,     0.87719,     0.87714,     0.87709,     0.87701,     0.87718,     0.87744,     0.87818,     0.87813,     0.87799,     0.87795,     0.87792,     0.87787,     0.87847,     0.87909,     0.87904,     0.88039,     0.88081,     0.88079,     0.88121,      0.8815,\n",
              "            0.88186,     0.88248,     0.88258,     0.88282,     0.88307,     0.88304,     0.88323,      0.8836,     0.88356,     0.88337,     0.88332,     0.88327,     0.88497,     0.88525,      0.8852,     0.88587,     0.88641,     0.88631,     0.88711,     0.88748,      0.8883,      0.8882,     0.88851,\n",
              "            0.88884,     0.88875,     0.88893,     0.88942,     0.89074,     0.89132,       0.892,     0.89295,     0.89267,     0.89387,     0.89421,     0.89441,      0.8946,      0.8948,     0.89546,     0.89541,      0.8961,     0.89582,     0.89577,     0.89573,     0.89717,      0.8969,     0.89681,\n",
              "             0.8968,     0.89749,     0.89731,     0.89723,     0.89718,     0.89704,     0.89696,     0.89691,     0.89788,     0.89832,     0.90009,     0.90049,      0.9004,     0.90031,     0.90101,     0.90146,     0.90119,      0.9011,     0.90172,     0.90166,     0.90161,       0.902,     0.90256,\n",
              "            0.90298,     0.90386,     0.90449,     0.90521,     0.90504,     0.90491,     0.90488,     0.90485,     0.90469,      0.9046,     0.90451,     0.90434,     0.90425,     0.90416,      0.9058,     0.90608,     0.90636,     0.90644,     0.90619,     0.90614,     0.90624,     0.90683,     0.90667,\n",
              "            0.90663,     0.90673,     0.90798,     0.90865,     0.90931,     0.91026,     0.91069,     0.91091,     0.91083,     0.91058,     0.91041,      0.9108,     0.91167,     0.91194,     0.91169,     0.91238,     0.91376,      0.9148,     0.91456,     0.91423,     0.91485,      0.9148,     0.91476,\n",
              "            0.91503,     0.91548,     0.91548,     0.91539,     0.91611,     0.91694,     0.91687,     0.91671,     0.91704,     0.91817,     0.91792,     0.91784,      0.9176,     0.91751,     0.91735,     0.91719,      0.9171,     0.91776,     0.91844,     0.91859,      0.9185,     0.91826,     0.91809,\n",
              "            0.91801,     0.91884,     0.91884,     0.91876,     0.91851,     0.92013,     0.92284,     0.92256,     0.92293,     0.92326,     0.92311,     0.92389,     0.92374,     0.92358,     0.92342,     0.92333,     0.92317,     0.92293,     0.92253,      0.9222,     0.92211,      0.9228,     0.92263,\n",
              "            0.92247,      0.9223,     0.92314,      0.9231,     0.92303,     0.92281,     0.92276,     0.92369,     0.92354,     0.92331,     0.92298,     0.92381,     0.92478,     0.92543,     0.92538,      0.9257,     0.92626,     0.92618,     0.92598,     0.92589,     0.92683,     0.92746,     0.92825,\n",
              "            0.92817,     0.92808,     0.92891,     0.92969,     0.93063,     0.93031,     0.92991,     0.92967,     0.93151,     0.93173,     0.93157,     0.93346,     0.93331,     0.93323,     0.93315,     0.93416,     0.93507,     0.93491,     0.93691,      0.9378,     0.93742,     0.93734,     0.93726,\n",
              "            0.93829,     0.93821,     0.93783,     0.93882,     0.93933,     0.93941,     0.93919,     0.94013,     0.93983,     0.93972,     0.93956,     0.93933,     0.93894,     0.93983,      0.9416,     0.94144,     0.94129,     0.94244,     0.94233,     0.94187,     0.94172,     0.94168,     0.94154,\n",
              "            0.94246,     0.94349,     0.94342,     0.94435,     0.94642,     0.94638,     0.94601,     0.94584,     0.94569,     0.94561,     0.94583,     0.94753,     0.94823,     0.94813,      0.9476,     0.94752,     0.94852,     0.94841,     0.94805,     0.94801,     0.94751,     0.94742,     0.94839,\n",
              "            0.94814,      0.9481,     0.94749,     0.94701,     0.94693,     0.94685,     0.94787,     0.95048,      0.9515,     0.95222,     0.95251,     0.95341,     0.95332,     0.95281,     0.95273,     0.95259,     0.95367,     0.95358,     0.95285,     0.95281,     0.95251,     0.95263,     0.95378,\n",
              "            0.95521,     0.95677,     0.95608,     0.95734,     0.95725,     0.95671,     0.95632,     0.95623,     0.95898,     0.95849,     0.95844,      0.9582,     0.95739,     0.95729,     0.95684,     0.95606,     0.95601,     0.95752,     0.95746,     0.95677,     0.95643,     0.95787,     0.95731,\n",
              "            0.95704,     0.95854,     0.95991,     0.95909,     0.95884,     0.95873,     0.95776,     0.95754,      0.9615,     0.96093,     0.96086,     0.96081,     0.96225,     0.96218,     0.96106,     0.96054,     0.96047,     0.95935,     0.95886,     0.96155,     0.96097,     0.96053,      0.9627,\n",
              "            0.96262,     0.96206,     0.96124,     0.96416,     0.96391,     0.96328,     0.96283,     0.96274,     0.96204,     0.96054,     0.96374,     0.96553,     0.96584,     0.96494,     0.96475,      0.9638,     0.96307,     0.96297,     0.96219,      0.9611,     0.96502,     0.96847,     0.96837,\n",
              "            0.96736,     0.97394,     0.97511,     0.97503,      0.9747,     0.97413,     0.97352,     0.97343,     0.98347,     0.98328,     0.98322,     0.98316,     0.98258,     0.98599,     0.98821,     0.99397,     0.99394,     0.99388,     0.99411,           1,           1,           1,           1,\n",
              "                  1,           1,           1,           1,           1,           1,           1,           1,           1,           1,           1,           1,           1,           1,           1,           1,           1,           1,           1,           1,           1,           1,           1,\n",
              "                  1,           1,           1,           1,           1,           1,           1,           1,           1,           1,           1,           1,           1,           1,           1,           1,           1,           1,           1,           1,           1,           1,           1,\n",
              "                  1,           1,           1,           1,           1,           1,           1,           1,           1,           1,           1,           1,           1,           1,           1,           1,           1,           1,           1,           1,           1,           1,           1,\n",
              "                  1,           1,           1,           1,           1,           1,           1,           1,           1,           1,           1,           1,           1,           1,           1,           1,           1,           1,           1,           1,           1,           1,           1,\n",
              "                  1,           1,           1,           1,           1,           1,           1,           1,           1,           1,           1,           1,           1,           1,           1,           1,           1,           1,           1,           1,           1,           1,           1,\n",
              "                  1,           1,           1,           1,           1,           1,           1,           1,           1,           1,           1,           1,           1,           1,           1,           1,           1,           1,           1,           1,           1,           1,           1,\n",
              "                  1,           1,           1,           1,           1,           1,           1,           1,           1,           1,           1,           1,           1,           1,           1,           1,           1,           1,           1,           1,           1,           1,           1,\n",
              "                  1,           1,           1,           1,           1,           1,           1,           1,           1,           1,           1,           1,           1,           1,           1,           1,           1,           1,           1,           1,           1,           1,           1,\n",
              "                  1,           1,           1,           1,           1,           1,           1,           1,           1,           1,           1]]), 'Confidence', 'Precision'], [array([          0,    0.001001,    0.002002,    0.003003,    0.004004,    0.005005,    0.006006,    0.007007,    0.008008,    0.009009,     0.01001,    0.011011,    0.012012,    0.013013,    0.014014,    0.015015,    0.016016,    0.017017,    0.018018,    0.019019,     0.02002,    0.021021,    0.022022,    0.023023,\n",
              "          0.024024,    0.025025,    0.026026,    0.027027,    0.028028,    0.029029,     0.03003,    0.031031,    0.032032,    0.033033,    0.034034,    0.035035,    0.036036,    0.037037,    0.038038,    0.039039,     0.04004,    0.041041,    0.042042,    0.043043,    0.044044,    0.045045,    0.046046,    0.047047,\n",
              "          0.048048,    0.049049,     0.05005,    0.051051,    0.052052,    0.053053,    0.054054,    0.055055,    0.056056,    0.057057,    0.058058,    0.059059,     0.06006,    0.061061,    0.062062,    0.063063,    0.064064,    0.065065,    0.066066,    0.067067,    0.068068,    0.069069,     0.07007,    0.071071,\n",
              "          0.072072,    0.073073,    0.074074,    0.075075,    0.076076,    0.077077,    0.078078,    0.079079,     0.08008,    0.081081,    0.082082,    0.083083,    0.084084,    0.085085,    0.086086,    0.087087,    0.088088,    0.089089,     0.09009,    0.091091,    0.092092,    0.093093,    0.094094,    0.095095,\n",
              "          0.096096,    0.097097,    0.098098,    0.099099,      0.1001,      0.1011,      0.1021,      0.1031,      0.1041,     0.10511,     0.10611,     0.10711,     0.10811,     0.10911,     0.11011,     0.11111,     0.11211,     0.11311,     0.11411,     0.11512,     0.11612,     0.11712,     0.11812,     0.11912,\n",
              "           0.12012,     0.12112,     0.12212,     0.12312,     0.12412,     0.12513,     0.12613,     0.12713,     0.12813,     0.12913,     0.13013,     0.13113,     0.13213,     0.13313,     0.13413,     0.13514,     0.13614,     0.13714,     0.13814,     0.13914,     0.14014,     0.14114,     0.14214,     0.14314,\n",
              "           0.14414,     0.14515,     0.14615,     0.14715,     0.14815,     0.14915,     0.15015,     0.15115,     0.15215,     0.15315,     0.15415,     0.15516,     0.15616,     0.15716,     0.15816,     0.15916,     0.16016,     0.16116,     0.16216,     0.16316,     0.16416,     0.16517,     0.16617,     0.16717,\n",
              "           0.16817,     0.16917,     0.17017,     0.17117,     0.17217,     0.17317,     0.17417,     0.17518,     0.17618,     0.17718,     0.17818,     0.17918,     0.18018,     0.18118,     0.18218,     0.18318,     0.18418,     0.18519,     0.18619,     0.18719,     0.18819,     0.18919,     0.19019,     0.19119,\n",
              "           0.19219,     0.19319,     0.19419,      0.1952,      0.1962,      0.1972,      0.1982,      0.1992,      0.2002,      0.2012,      0.2022,      0.2032,      0.2042,     0.20521,     0.20621,     0.20721,     0.20821,     0.20921,     0.21021,     0.21121,     0.21221,     0.21321,     0.21421,     0.21522,\n",
              "           0.21622,     0.21722,     0.21822,     0.21922,     0.22022,     0.22122,     0.22222,     0.22322,     0.22422,     0.22523,     0.22623,     0.22723,     0.22823,     0.22923,     0.23023,     0.23123,     0.23223,     0.23323,     0.23423,     0.23524,     0.23624,     0.23724,     0.23824,     0.23924,\n",
              "           0.24024,     0.24124,     0.24224,     0.24324,     0.24424,     0.24525,     0.24625,     0.24725,     0.24825,     0.24925,     0.25025,     0.25125,     0.25225,     0.25325,     0.25425,     0.25526,     0.25626,     0.25726,     0.25826,     0.25926,     0.26026,     0.26126,     0.26226,     0.26326,\n",
              "           0.26426,     0.26527,     0.26627,     0.26727,     0.26827,     0.26927,     0.27027,     0.27127,     0.27227,     0.27327,     0.27427,     0.27528,     0.27628,     0.27728,     0.27828,     0.27928,     0.28028,     0.28128,     0.28228,     0.28328,     0.28428,     0.28529,     0.28629,     0.28729,\n",
              "           0.28829,     0.28929,     0.29029,     0.29129,     0.29229,     0.29329,     0.29429,      0.2953,      0.2963,      0.2973,      0.2983,      0.2993,      0.3003,      0.3013,      0.3023,      0.3033,      0.3043,     0.30531,     0.30631,     0.30731,     0.30831,     0.30931,     0.31031,     0.31131,\n",
              "           0.31231,     0.31331,     0.31431,     0.31532,     0.31632,     0.31732,     0.31832,     0.31932,     0.32032,     0.32132,     0.32232,     0.32332,     0.32432,     0.32533,     0.32633,     0.32733,     0.32833,     0.32933,     0.33033,     0.33133,     0.33233,     0.33333,     0.33433,     0.33534,\n",
              "           0.33634,     0.33734,     0.33834,     0.33934,     0.34034,     0.34134,     0.34234,     0.34334,     0.34434,     0.34535,     0.34635,     0.34735,     0.34835,     0.34935,     0.35035,     0.35135,     0.35235,     0.35335,     0.35435,     0.35536,     0.35636,     0.35736,     0.35836,     0.35936,\n",
              "           0.36036,     0.36136,     0.36236,     0.36336,     0.36436,     0.36537,     0.36637,     0.36737,     0.36837,     0.36937,     0.37037,     0.37137,     0.37237,     0.37337,     0.37437,     0.37538,     0.37638,     0.37738,     0.37838,     0.37938,     0.38038,     0.38138,     0.38238,     0.38338,\n",
              "           0.38438,     0.38539,     0.38639,     0.38739,     0.38839,     0.38939,     0.39039,     0.39139,     0.39239,     0.39339,     0.39439,      0.3954,      0.3964,      0.3974,      0.3984,      0.3994,      0.4004,      0.4014,      0.4024,      0.4034,      0.4044,     0.40541,     0.40641,     0.40741,\n",
              "           0.40841,     0.40941,     0.41041,     0.41141,     0.41241,     0.41341,     0.41441,     0.41542,     0.41642,     0.41742,     0.41842,     0.41942,     0.42042,     0.42142,     0.42242,     0.42342,     0.42442,     0.42543,     0.42643,     0.42743,     0.42843,     0.42943,     0.43043,     0.43143,\n",
              "           0.43243,     0.43343,     0.43443,     0.43544,     0.43644,     0.43744,     0.43844,     0.43944,     0.44044,     0.44144,     0.44244,     0.44344,     0.44444,     0.44545,     0.44645,     0.44745,     0.44845,     0.44945,     0.45045,     0.45145,     0.45245,     0.45345,     0.45445,     0.45546,\n",
              "           0.45646,     0.45746,     0.45846,     0.45946,     0.46046,     0.46146,     0.46246,     0.46346,     0.46446,     0.46547,     0.46647,     0.46747,     0.46847,     0.46947,     0.47047,     0.47147,     0.47247,     0.47347,     0.47447,     0.47548,     0.47648,     0.47748,     0.47848,     0.47948,\n",
              "           0.48048,     0.48148,     0.48248,     0.48348,     0.48448,     0.48549,     0.48649,     0.48749,     0.48849,     0.48949,     0.49049,     0.49149,     0.49249,     0.49349,     0.49449,      0.4955,      0.4965,      0.4975,      0.4985,      0.4995,      0.5005,      0.5015,      0.5025,      0.5035,\n",
              "            0.5045,     0.50551,     0.50651,     0.50751,     0.50851,     0.50951,     0.51051,     0.51151,     0.51251,     0.51351,     0.51451,     0.51552,     0.51652,     0.51752,     0.51852,     0.51952,     0.52052,     0.52152,     0.52252,     0.52352,     0.52452,     0.52553,     0.52653,     0.52753,\n",
              "           0.52853,     0.52953,     0.53053,     0.53153,     0.53253,     0.53353,     0.53453,     0.53554,     0.53654,     0.53754,     0.53854,     0.53954,     0.54054,     0.54154,     0.54254,     0.54354,     0.54454,     0.54555,     0.54655,     0.54755,     0.54855,     0.54955,     0.55055,     0.55155,\n",
              "           0.55255,     0.55355,     0.55455,     0.55556,     0.55656,     0.55756,     0.55856,     0.55956,     0.56056,     0.56156,     0.56256,     0.56356,     0.56456,     0.56557,     0.56657,     0.56757,     0.56857,     0.56957,     0.57057,     0.57157,     0.57257,     0.57357,     0.57457,     0.57558,\n",
              "           0.57658,     0.57758,     0.57858,     0.57958,     0.58058,     0.58158,     0.58258,     0.58358,     0.58458,     0.58559,     0.58659,     0.58759,     0.58859,     0.58959,     0.59059,     0.59159,     0.59259,     0.59359,     0.59459,      0.5956,      0.5966,      0.5976,      0.5986,      0.5996,\n",
              "            0.6006,      0.6016,      0.6026,      0.6036,      0.6046,     0.60561,     0.60661,     0.60761,     0.60861,     0.60961,     0.61061,     0.61161,     0.61261,     0.61361,     0.61461,     0.61562,     0.61662,     0.61762,     0.61862,     0.61962,     0.62062,     0.62162,     0.62262,     0.62362,\n",
              "           0.62462,     0.62563,     0.62663,     0.62763,     0.62863,     0.62963,     0.63063,     0.63163,     0.63263,     0.63363,     0.63463,     0.63564,     0.63664,     0.63764,     0.63864,     0.63964,     0.64064,     0.64164,     0.64264,     0.64364,     0.64464,     0.64565,     0.64665,     0.64765,\n",
              "           0.64865,     0.64965,     0.65065,     0.65165,     0.65265,     0.65365,     0.65465,     0.65566,     0.65666,     0.65766,     0.65866,     0.65966,     0.66066,     0.66166,     0.66266,     0.66366,     0.66466,     0.66567,     0.66667,     0.66767,     0.66867,     0.66967,     0.67067,     0.67167,\n",
              "           0.67267,     0.67367,     0.67467,     0.67568,     0.67668,     0.67768,     0.67868,     0.67968,     0.68068,     0.68168,     0.68268,     0.68368,     0.68468,     0.68569,     0.68669,     0.68769,     0.68869,     0.68969,     0.69069,     0.69169,     0.69269,     0.69369,     0.69469,      0.6957,\n",
              "            0.6967,      0.6977,      0.6987,      0.6997,      0.7007,      0.7017,      0.7027,      0.7037,      0.7047,     0.70571,     0.70671,     0.70771,     0.70871,     0.70971,     0.71071,     0.71171,     0.71271,     0.71371,     0.71471,     0.71572,     0.71672,     0.71772,     0.71872,     0.71972,\n",
              "           0.72072,     0.72172,     0.72272,     0.72372,     0.72472,     0.72573,     0.72673,     0.72773,     0.72873,     0.72973,     0.73073,     0.73173,     0.73273,     0.73373,     0.73473,     0.73574,     0.73674,     0.73774,     0.73874,     0.73974,     0.74074,     0.74174,     0.74274,     0.74374,\n",
              "           0.74474,     0.74575,     0.74675,     0.74775,     0.74875,     0.74975,     0.75075,     0.75175,     0.75275,     0.75375,     0.75475,     0.75576,     0.75676,     0.75776,     0.75876,     0.75976,     0.76076,     0.76176,     0.76276,     0.76376,     0.76476,     0.76577,     0.76677,     0.76777,\n",
              "           0.76877,     0.76977,     0.77077,     0.77177,     0.77277,     0.77377,     0.77477,     0.77578,     0.77678,     0.77778,     0.77878,     0.77978,     0.78078,     0.78178,     0.78278,     0.78378,     0.78478,     0.78579,     0.78679,     0.78779,     0.78879,     0.78979,     0.79079,     0.79179,\n",
              "           0.79279,     0.79379,     0.79479,      0.7958,      0.7968,      0.7978,      0.7988,      0.7998,      0.8008,      0.8018,      0.8028,      0.8038,      0.8048,     0.80581,     0.80681,     0.80781,     0.80881,     0.80981,     0.81081,     0.81181,     0.81281,     0.81381,     0.81481,     0.81582,\n",
              "           0.81682,     0.81782,     0.81882,     0.81982,     0.82082,     0.82182,     0.82282,     0.82382,     0.82482,     0.82583,     0.82683,     0.82783,     0.82883,     0.82983,     0.83083,     0.83183,     0.83283,     0.83383,     0.83483,     0.83584,     0.83684,     0.83784,     0.83884,     0.83984,\n",
              "           0.84084,     0.84184,     0.84284,     0.84384,     0.84484,     0.84585,     0.84685,     0.84785,     0.84885,     0.84985,     0.85085,     0.85185,     0.85285,     0.85385,     0.85485,     0.85586,     0.85686,     0.85786,     0.85886,     0.85986,     0.86086,     0.86186,     0.86286,     0.86386,\n",
              "           0.86486,     0.86587,     0.86687,     0.86787,     0.86887,     0.86987,     0.87087,     0.87187,     0.87287,     0.87387,     0.87487,     0.87588,     0.87688,     0.87788,     0.87888,     0.87988,     0.88088,     0.88188,     0.88288,     0.88388,     0.88488,     0.88589,     0.88689,     0.88789,\n",
              "           0.88889,     0.88989,     0.89089,     0.89189,     0.89289,     0.89389,     0.89489,      0.8959,      0.8969,      0.8979,      0.8989,      0.8999,      0.9009,      0.9019,      0.9029,      0.9039,      0.9049,     0.90591,     0.90691,     0.90791,     0.90891,     0.90991,     0.91091,     0.91191,\n",
              "           0.91291,     0.91391,     0.91491,     0.91592,     0.91692,     0.91792,     0.91892,     0.91992,     0.92092,     0.92192,     0.92292,     0.92392,     0.92492,     0.92593,     0.92693,     0.92793,     0.92893,     0.92993,     0.93093,     0.93193,     0.93293,     0.93393,     0.93493,     0.93594,\n",
              "           0.93694,     0.93794,     0.93894,     0.93994,     0.94094,     0.94194,     0.94294,     0.94394,     0.94494,     0.94595,     0.94695,     0.94795,     0.94895,     0.94995,     0.95095,     0.95195,     0.95295,     0.95395,     0.95495,     0.95596,     0.95696,     0.95796,     0.95896,     0.95996,\n",
              "           0.96096,     0.96196,     0.96296,     0.96396,     0.96496,     0.96597,     0.96697,     0.96797,     0.96897,     0.96997,     0.97097,     0.97197,     0.97297,     0.97397,     0.97497,     0.97598,     0.97698,     0.97798,     0.97898,     0.97998,     0.98098,     0.98198,     0.98298,     0.98398,\n",
              "           0.98498,     0.98599,     0.98699,     0.98799,     0.98899,     0.98999,     0.99099,     0.99199,     0.99299,     0.99399,     0.99499,       0.996,       0.997,       0.998,       0.999,           1]), array([[    0.92181,     0.92181,     0.91608,     0.90591,     0.90273,     0.90019,     0.89892,     0.89638,      0.8951,      0.8951,      0.8932,     0.89129,     0.89065,     0.89002,     0.88938,     0.88811,     0.88557,     0.88366,     0.88239,     0.87921,     0.87921,     0.87921,     0.87874,\n",
              "            0.87794,      0.8773,      0.8773,     0.87667,     0.87667,     0.87667,     0.87667,     0.87667,     0.87466,     0.87349,     0.87222,     0.87222,     0.87158,     0.87095,     0.86968,     0.86904,     0.86777,     0.86777,     0.86586,     0.86459,     0.86386,     0.86332,     0.86268,\n",
              "            0.86205,     0.86141,     0.86078,      0.8595,     0.85887,     0.85823,     0.85823,     0.85823,      0.8576,      0.8576,      0.8576,     0.85696,     0.85633,     0.85569,     0.85569,     0.85505,     0.85315,     0.85188,     0.85188,     0.85188,     0.85124,     0.84997,      0.8487,\n",
              "            0.84679,     0.84679,      0.8461,     0.84427,     0.84354,      0.8417,      0.8417,      0.8417,      0.8417,      0.8417,      0.8417,      0.8417,     0.84098,     0.84043,     0.84043,     0.84043,     0.84043,     0.84043,      0.8398,     0.83853,     0.83662,     0.83662,     0.83662,\n",
              "            0.83662,     0.83662,     0.83598,     0.83598,     0.83504,     0.83471,     0.83344,     0.83344,     0.83344,      0.8328,     0.83217,     0.83153,     0.83153,      0.8309,     0.82974,     0.82899,     0.82835,     0.82772,     0.82708,     0.82685,     0.82581,     0.82581,     0.82501,\n",
              "            0.82454,      0.8239,     0.82263,     0.82072,     0.82072,     0.81945,     0.81945,     0.81882,     0.81818,     0.81818,     0.81753,     0.81627,     0.81564,     0.81564,     0.81535,     0.81457,     0.81437,     0.81373,     0.81347,      0.8131,     0.81182,     0.81182,     0.81182,\n",
              "            0.81182,     0.81182,     0.81119,     0.81055,     0.80992,      0.8087,     0.80677,     0.80674,     0.80674,     0.80674,     0.80674,     0.80597,     0.80483,     0.80483,      0.8042,     0.80356,     0.80292,     0.80292,     0.80292,     0.80292,     0.80292,     0.80292,     0.80229,\n",
              "            0.80229,     0.80229,     0.80229,     0.80165,     0.80165,     0.80165,     0.80165,     0.79992,     0.79875,     0.79826,     0.79797,     0.79588,      0.7953,      0.7953,      0.7953,     0.79466,     0.79402,     0.79339,     0.79339,     0.79275,     0.79275,     0.79275,     0.79275,\n",
              "            0.79275,     0.79275,     0.79212,     0.79212,     0.79212,     0.79212,     0.79148,     0.79148,     0.79148,     0.79148,     0.79148,     0.79085,     0.79085,     0.79041,     0.79021,     0.79021,     0.78957,     0.78954,     0.78894,     0.78822,     0.78767,     0.78767,     0.78711,\n",
              "            0.78703,      0.7864,      0.7854,     0.78449,     0.78449,     0.78449,     0.78449,     0.78385,     0.78322,     0.78258,     0.78258,     0.78237,     0.78195,     0.78131,     0.78131,     0.78131,     0.78131,     0.78067,     0.78067,     0.77997,     0.77949,      0.7794,      0.7794,\n",
              "             0.7794,      0.7794,     0.77883,     0.77813,     0.77813,     0.77611,     0.77524,     0.77495,     0.77495,     0.77444,     0.77362,     0.77315,     0.77241,     0.77241,     0.77241,     0.77241,     0.77241,     0.77183,     0.77177,     0.77177,     0.77177,     0.77177,     0.77177,\n",
              "            0.77177,     0.77177,     0.77167,     0.77149,     0.77132,     0.77115,      0.7705,      0.7705,     0.76985,     0.76918,     0.76831,     0.76669,     0.76605,     0.76605,     0.76547,     0.76414,     0.76414,     0.76372,     0.76351,     0.76351,     0.76224,     0.76172,      0.7616,\n",
              "            0.76126,     0.76097,     0.76037,     0.75779,     0.75715,     0.75652,     0.75524,     0.75397,     0.75334,     0.75334,      0.7532,     0.75243,     0.75104,     0.75016,     0.75016,     0.75016,     0.74969,     0.74952,     0.74952,     0.74952,     0.74889,     0.74889,     0.74889,\n",
              "            0.74889,     0.74825,     0.74825,     0.74825,     0.74698,     0.74698,     0.74698,     0.74698,     0.74698,     0.74634,     0.74634,     0.74634,     0.74634,     0.74605,     0.74444,     0.74444,     0.74444,     0.74402,     0.74317,     0.74317,     0.74317,     0.74253,     0.74253,\n",
              "            0.74253,     0.74253,     0.74186,     0.74148,     0.74126,     0.74089,     0.73954,     0.73935,     0.73871,      0.7379,     0.73744,     0.73744,     0.73681,     0.73681,     0.73681,      0.7349,     0.73472,     0.73427,     0.73427,     0.73363,     0.73312,     0.73236,     0.73236,\n",
              "            0.73172,     0.73019,     0.72982,     0.72982,     0.72982,     0.72918,     0.72916,     0.72854,     0.72854,     0.72768,     0.72727,     0.72727,     0.72727,     0.72667,     0.72601,       0.726,       0.726,     0.72537,     0.72537,     0.72434,     0.72409,     0.72304,     0.72224,\n",
              "            0.72219,     0.72219,     0.72195,     0.72172,     0.72155,     0.72063,     0.72028,     0.72028,     0.72028,      0.7197,     0.71964,     0.71964,     0.71928,     0.71837,     0.71837,     0.71837,     0.71837,     0.71805,      0.7171,     0.71647,     0.71583,     0.71456,     0.71428,\n",
              "            0.71392,     0.71391,     0.71374,     0.71356,     0.71339,     0.71256,     0.71235,     0.71213,     0.71107,     0.71031,     0.70947,     0.70884,     0.70884,     0.70884,     0.70869,     0.70851,     0.70834,     0.70813,     0.70781,     0.70676,     0.70439,     0.70439,     0.70439,\n",
              "            0.70439,     0.70439,     0.70418,     0.70385,     0.70352,      0.7032,     0.70263,     0.70248,     0.70248,     0.70118,     0.70085,     0.69991,     0.69969,     0.69947,     0.69917,     0.69852,     0.69795,     0.69762,      0.6972,     0.69527,     0.69421,     0.69421,     0.69358,\n",
              "            0.69358,     0.69358,     0.69167,     0.69167,     0.69167,     0.69116,      0.6904,      0.6904,     0.68984,     0.68855,      0.6882,     0.68787,     0.68722,     0.68658,     0.68626,     0.68591,     0.68462,     0.68395,     0.68341,     0.68341,     0.68249,     0.68184,      0.6815,\n",
              "            0.68118,     0.68052,     0.67896,     0.67705,     0.67578,     0.67451,     0.67387,     0.67344,     0.67151,     0.67069,     0.67069,     0.67069,     0.67069,     0.67069,     0.66978,     0.66946,     0.66942,     0.66692,     0.66657,     0.66625,      0.6656,     0.66368,     0.66302,\n",
              "            0.66243,     0.66236,     0.66107,     0.66047,     0.66014,     0.65911,     0.65854,     0.65821,     0.65798,     0.65714,     0.65671,     0.65584,     0.65519,     0.65454,     0.65389,     0.65133,      0.6494,     0.64875,     0.64747,     0.64699,     0.64667,      0.6459,      0.6459,\n",
              "             0.6459,     0.64546,     0.64418,     0.64352,     0.64224,     0.64128,     0.64107,     0.64085,     0.63963,     0.63898,     0.63833,     0.63704,     0.63639,     0.63574,     0.63573,     0.63573,     0.63573,      0.6344,     0.63251,     0.63219,     0.63191,     0.63116,     0.62994,\n",
              "            0.62961,     0.62873,     0.62728,     0.62599,     0.62471,     0.62428,     0.62428,     0.62402,     0.62337,     0.62145,     0.62016,     0.61983,     0.61983,     0.61884,     0.61692,     0.61563,     0.61538,     0.61433,      0.6124,     0.60985,     0.60792,     0.60751,     0.60719,\n",
              "            0.60648,     0.60648,     0.60594,     0.60528,     0.60458,     0.60354,     0.60301,     0.60172,     0.60076,     0.59915,     0.59723,     0.59657,     0.59465,       0.594,     0.59271,     0.59142,     0.59077,     0.58885,     0.58868,     0.58818,     0.58753,     0.58561,     0.58432,\n",
              "            0.58367,      0.5836,       0.583,     0.58235,     0.58043,     0.57851,     0.57783,     0.57561,     0.57406,     0.57367,     0.57238,      0.5711,     0.56981,     0.56852,     0.56723,     0.56658,      0.5653,     0.56337,     0.56018,     0.55762,     0.55697,     0.55473,     0.55344,\n",
              "            0.55215,     0.55086,     0.54974,     0.54942,     0.54891,     0.54717,     0.54685,     0.54632,     0.54517,     0.54343,     0.54087,     0.53958,     0.53719,     0.53646,     0.53614,     0.53592,     0.53505,      0.5344,     0.53285,     0.53214,     0.53149,      0.5283,     0.52637,\n",
              "            0.52572,     0.52507,     0.52257,     0.52115,     0.52025,      0.5177,      0.5145,     0.51258,      0.5124,     0.51191,     0.51062,     0.50838,     0.50709,     0.50644,     0.50579,     0.50514,     0.50357,     0.50225,     0.50032,      0.4984,     0.49521,     0.49455,     0.49384,\n",
              "            0.49293,     0.49228,     0.48909,      0.4878,     0.48506,       0.483,     0.48108,     0.47915,     0.47659,     0.47573,     0.47434,     0.47241,     0.46922,     0.46666,     0.46124,     0.45995,     0.45867,     0.45802,     0.45705,     0.45322,     0.45197,     0.45164,     0.45052,\n",
              "            0.44775,     0.44583,     0.44517,      0.4423,     0.43792,      0.4376,      0.4344,     0.43302,     0.43173,     0.43108,     0.42594,     0.42212,     0.42212,      0.4183,     0.41383,     0.41318,     0.40993,     0.40902,     0.40603,      0.4057,     0.40166,     0.39924,     0.39924,\n",
              "            0.39518,     0.39485,     0.38999,      0.3863,     0.38565,     0.38207,     0.38207,     0.37829,     0.37415,     0.37381,     0.36977,     0.36425,     0.36355,     0.35945,     0.35879,     0.35764,     0.35336,     0.35258,     0.34688,     0.34655,     0.34424,     0.34266,     0.34266,\n",
              "            0.33894,     0.33766,     0.33211,     0.32814,     0.32744,     0.32318,     0.32009,     0.31944,     0.31212,      0.3083,     0.30786,     0.30603,     0.29997,     0.29921,     0.29596,     0.29046,     0.29013,      0.2866,     0.28617,     0.28143,     0.27591,     0.27591,     0.27089,\n",
              "             0.2651,      0.2651,     0.25876,     0.25334,     0.25174,     0.25106,     0.24503,     0.24374,     0.23814,     0.23452,     0.23409,     0.23077,     0.22686,     0.22643,     0.21964,     0.21666,     0.21622,     0.21007,     0.20741,     0.20668,     0.20348,     0.20113,     0.19688,\n",
              "            0.19644,     0.19347,     0.18922,     0.18813,     0.18678,     0.18346,     0.18112,     0.18069,     0.17724,     0.17024,     0.16895,     0.16847,     0.16177,     0.15746,     0.15659,     0.15234,     0.14923,     0.14879,     0.14562,     0.14136,      0.1405,     0.13667,     0.13624,\n",
              "            0.13187,     0.12842,     0.12455,     0.12412,     0.12248,     0.11971,     0.11688,     0.11645,     0.11345,     0.11219,     0.11175,     0.11132,      0.1076,     0.10744,     0.10654,     0.10471,     0.10427,     0.10331,     0.10299,     0.10285,     0.10259,     0.10104,     0.10061,\n",
              "           0.098353,    0.096982,    0.095235,    0.093359,    0.092924,     0.08993,      0.0888,    0.088539,    0.086656,    0.084316,    0.082778,    0.082059,    0.080337,    0.079167,    0.076608,    0.072976,    0.072716,    0.072428,    0.071161,    0.070727,    0.069109,    0.067597,    0.066457,\n",
              "           0.065835,    0.065243,    0.064917,    0.064338,    0.063687,    0.062399,    0.061748,    0.061096,    0.060127,    0.059475,    0.059023,    0.058806,    0.058588,     0.05814,    0.057488,    0.056201,    0.054519,    0.053763,    0.053379,    0.053249,    0.053119,    0.052988,    0.052858,\n",
              "           0.052577,    0.052062,    0.051844,    0.051627,     0.05141,    0.051193,    0.050976,    0.050738,    0.050478,    0.050195,    0.049355,    0.048928,    0.048602,    0.048277,    0.047951,    0.047665,    0.047578,    0.047491,    0.047404,    0.047318,    0.047231,    0.047144,    0.047057,\n",
              "            0.04649,    0.046266,    0.046103,     0.04594,    0.045777,    0.045561,    0.045344,    0.045117,    0.044682,    0.044406,    0.044243,     0.04408,    0.043917,    0.042531,    0.042205,    0.041879,    0.041554,    0.041259,    0.041042,    0.040825,    0.040659,    0.040582,    0.040505,\n",
              "           0.040429,    0.040352,    0.040275,    0.040199,    0.040122,    0.039323,    0.037446,    0.036794,    0.036174,    0.035739,    0.034279,    0.034018,    0.033758,    0.032307,    0.031872,    0.031656,    0.031493,     0.03133,    0.031167,     0.03076,    0.029594,    0.028642,     0.02702,\n",
              "           0.026534,    0.026209,    0.024065,    0.022861,    0.022601,     0.02234,    0.021472,    0.021255,    0.021038,    0.020503,    0.019462,    0.019136,    0.018723,    0.018288,    0.017854,    0.017515,    0.017189,    0.016408,    0.016278,    0.016148,    0.016017,    0.015831,    0.014893,\n",
              "           0.013834,    0.013573,    0.013161,    0.012286,     0.01119,    0.010623,    0.010363,   0.0099976,    0.009346,    0.007217,   0.0059137,   0.0054993,   0.0052387,   0.0050184,   0.0048555,   0.0046926,   0.0045297,    0.004339,   0.0041218,   0.0039046,   0.0031672,   0.0030487,   0.0029302,\n",
              "          0.0028117,   0.0026933,   0.0025748,   0.0022254,   0.0018574,   0.0016712,    0.001485,   0.0012988,   0.0011126,  0.00092646,  0.00074027,           0,           0,           0,           0,           0,           0,           0,           0,           0,           0,           0,           0,\n",
              "                  0,           0,           0,           0,           0,           0,           0,           0,           0,           0,           0]]), 'Confidence', 'Recall']]\n",
              "fitness: 0.45469336645937236\n",
              "keys: ['metrics/precision(B)', 'metrics/recall(B)', 'metrics/mAP50(B)', 'metrics/mAP50-95(B)']\n",
              "maps: array([      0.416])\n",
              "names: {0: 'license_plate'}\n",
              "plot: True\n",
              "results_dict: {'metrics/precision(B)': 0.8490933976993457, 'metrics/recall(B)': 0.7260012714558169, 'metrics/mAP50(B)': 0.8028904986352114, 'metrics/mAP50-95(B)': 0.41600479621761244, 'fitness': 0.45469336645937236}\n",
              "save_dir: PosixPath('runs/detect/train2')\n",
              "speed: {'preprocess': 0.24269944801579427, 'inference': 2.113792458540462, 'loss': 0.0004659494504901925, 'postprocess': 2.261626642659126}\n",
              "task: 'detect'"
            ]
          },
          "metadata": {},
          "execution_count": 7
        }
      ],
      "source": [
        "from ultralytics import YOLO\n",
        "import cv2\n",
        "\n",
        "# Step 1: Train the model\n",
        "# Load the YOLOv8 model (pre-trained)\n",
        "model = YOLO('yolov8n.pt')  # You can choose other versions like yolov8s.pt\n",
        "\n",
        "# Train the model\n",
        "model.train(data='data.yaml', epochs=5, imgsz=640, name='train2')  # Set the project name\n",
        "\n"
      ]
    },
    {
      "cell_type": "code",
      "execution_count": null,
      "metadata": {
        "colab": {
          "background_save": true
        },
        "id": "OmSkqx24Yn_a",
        "outputId": "7570779a-ef9c-4a50-c7e8-63bedb631d15"
      },
      "outputs": [
        {
          "name": "stdout",
          "output_type": "stream",
          "text": [
            "Mounted at /content/drive\n"
          ]
        }
      ],
      "source": [
        "from google.colab import drive\n",
        "drive.mount('/content/drive')"
      ]
    },
    {
      "cell_type": "code",
      "execution_count": null,
      "metadata": {
        "id": "6aOq6Qm6M04d"
      },
      "outputs": [],
      "source": [
        "import os\n",
        "\n",
        "# Directory to save predictions\n",
        "save_dir = '/content/predictions/'\n",
        "os.makedirs(save_dir, exist_ok=True)  # Creates directory if it doesn't exist\n"
      ]
    },
    {
      "cell_type": "code",
      "execution_count": null,
      "metadata": {
        "id": "hF2uo3dnPkyH"
      },
      "outputs": [],
      "source": [
        "save_path = '/content/predictions/image_0.jpg'\n"
      ]
    },
    {
      "cell_type": "code",
      "execution_count": null,
      "metadata": {
        "colab": {
          "base_uri": "https://localhost:8080/"
        },
        "id": "l467xvgRQt6X",
        "outputId": "ff496bb1-7467-4b16-f42e-07f31515fc1e"
      },
      "outputs": [
        {
          "name": "stdout",
          "output_type": "stream",
          "text": [
            "\n",
            "0: 640x384 1 license_plate, 30.5ms\n",
            "Speed: 3.5ms preprocess, 30.5ms inference, 2.0ms postprocess per image at shape (1, 3, 640, 384)\n"
          ]
        }
      ],
      "source": [
        "from ultralytics import YOLO\n",
        "import cv2\n",
        "import os\n",
        "\n",
        "# Step 1: Load the trained model\n",
        "model = YOLO('runs/detect/train2/weights/best.pt')  # Corrected path to your trained model\n",
        "\n",
        "# Step 2: Perform inference\n",
        "img_path = '/content/bike3.jpg'  # Replace with your image path\n",
        "img = cv2.imread(img_path)\n",
        "\n",
        "results = model(img)\n",
        "\n",
        "# Step 3: Save and display predictions\n",
        "save_dir = '/content/predictions/'\n",
        "os.makedirs(save_dir, exist_ok=True)  # Ensure save directory exists\n",
        "\n",
        "# Save the image if results are not empty\n",
        "if results:\n",
        "    save_path = os.path.join(save_dir, 'image_1.jpg')\n",
        "    results[0].save(save_path)\n",
        "\n",
        "# Optionally, display the results\n",
        "if results:\n",
        "    results[0].show()\n"
      ]
    },
    {
      "cell_type": "code",
      "execution_count": null,
      "metadata": {
        "id": "zaHdvGD3QzhV"
      },
      "outputs": [],
      "source": []
    }
  ],
  "metadata": {
    "accelerator": "GPU",
    "colab": {
      "gpuType": "T4",
      "provenance": []
    },
    "kernelspec": {
      "display_name": "Python 3",
      "name": "python3"
    },
    "language_info": {
      "name": "python"
    }
  },
  "nbformat": 4,
  "nbformat_minor": 0
}